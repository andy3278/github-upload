{
 "cells": [
  {
   "cell_type": "code",
   "execution_count": 30,
   "metadata": {},
   "outputs": [],
   "source": [
    "import pandas as pd"
   ]
  },
  {
   "cell_type": "code",
   "execution_count": 48,
   "metadata": {
    "scrolled": true
   },
   "outputs": [
    {
     "name": "stdout",
     "output_type": "stream",
     "text": [
      "guess a number between 1 and 10\n",
      "guess!\n",
      "5\n",
      "too high\n",
      "guess!\n",
      "4\n",
      "too high\n",
      "guess!\n",
      "3\n",
      "too high\n",
      "guess!\n",
      "2\n",
      "good job!\n"
     ]
    }
   ],
   "source": [
    "import random\n",
    "scrnum = random.randint(1,10)\n",
    "print('guess a number between 1 and 10')\n",
    "for geuss_num in range(1,7):\n",
    "    print('guess!')\n",
    "    %timeit\n",
    "    guess = int(input())\n",
    "    if guess < scrnum:\n",
    "        print('too low')\n",
    "    elif guess > scrnum:\n",
    "        print('too high')\n",
    "    else:\n",
    "        print('good job!')\n",
    "        break\n",
    "        \n"
   ]
  },
  {
   "cell_type": "code",
   "execution_count": 32,
   "metadata": {},
   "outputs": [
    {
     "data": {
      "text/plain": [
       "'1.1.0'"
      ]
     },
     "execution_count": 32,
     "metadata": {},
     "output_type": "execute_result"
    }
   ],
   "source": [
    "pd.__version__"
   ]
  },
  {
   "cell_type": "code",
   "execution_count": 33,
   "metadata": {},
   "outputs": [],
   "source": [
    "my_obj = pd.Series([4, 7, -5, 3])"
   ]
  },
  {
   "cell_type": "code",
   "execution_count": 34,
   "metadata": {},
   "outputs": [
    {
     "data": {
      "text/plain": [
       "array([ 4,  7, -5,  3], dtype=int64)"
      ]
     },
     "execution_count": 34,
     "metadata": {},
     "output_type": "execute_result"
    }
   ],
   "source": [
    "my_obj.values"
   ]
  },
  {
   "cell_type": "code",
   "execution_count": 35,
   "metadata": {},
   "outputs": [
    {
     "name": "stdout",
     "output_type": "stream",
     "text": [
      "[ 4  7 -5  3]\n"
     ]
    }
   ],
   "source": [
    "print(_)"
   ]
  },
  {
   "cell_type": "code",
   "execution_count": 39,
   "metadata": {},
   "outputs": [],
   "source": [
    "n = 23"
   ]
  },
  {
   "cell_type": "code",
   "execution_count": 40,
   "metadata": {},
   "outputs": [
    {
     "name": "stdout",
     "output_type": "stream",
     "text": [
      "1.1.0\n"
     ]
    }
   ],
   "source": [
    "print(__\n",
    "    )"
   ]
  },
  {
   "cell_type": "code",
   "execution_count": 46,
   "metadata": {},
   "outputs": [
    {
     "name": "stdout",
     "output_type": "stream",
     "text": [
      "[ 4  7 -5  3]\n"
     ]
    }
   ],
   "source": [
    "print(_)\n",
    "%timeit"
   ]
  },
  {
   "cell_type": "code",
   "execution_count": 49,
   "metadata": {},
   "outputs": [
    {
     "name": "stdout",
     "output_type": "stream",
     "text": [
      "984 ns ± 3.12 ns per loop (mean ± std. dev. of 7 runs, 1000000 loops each)\n"
     ]
    }
   ],
   "source": [
    "%timeit sum(range(100))"
   ]
  },
  {
   "cell_type": "code",
   "execution_count": 56,
   "metadata": {},
   "outputs": [
    {
     "name": "stdout",
     "output_type": "stream",
     "text": [
      "999\n",
      "999\n",
      "999\n",
      "999\n",
      "999\n",
      "999\n",
      "999\n",
      "999\n",
      "258 ms ± 2.23 ms per loop (mean ± std. dev. of 7 runs, 1 loop each)\n"
     ]
    }
   ],
   "source": [
    "%%timeit\n",
    "total = 0\n",
    "for i in range(1000):\n",
    "    for j in range(1000):\n",
    "        total += i * (-1) ** j\n",
    "print(i)"
   ]
  },
  {
   "cell_type": "code",
   "execution_count": 57,
   "metadata": {},
   "outputs": [
    {
     "name": "stdout",
     "output_type": "stream",
     "text": [
      "461 µs ± 4.02 µs per loop (mean ± std. dev. of 7 runs, 1000 loops each)\n"
     ]
    }
   ],
   "source": [
    " import random\n",
    " L = [random.random() for i in range(100000)]\n",
    " %timeit L.sort()"
   ]
  },
  {
   "cell_type": "code",
   "execution_count": 59,
   "metadata": {},
   "outputs": [
    {
     "name": "stdout",
     "output_type": "stream",
     "text": [
      "sorting an unsorted list:\n",
      "Wall time: 20 ms\n"
     ]
    }
   ],
   "source": [
    "import random\n",
    "L = [random.random() for i in range(100000)]\n",
    "print(\"sorting an unsorted list:\")\n",
    "%time L.sort()\n"
   ]
  },
  {
   "cell_type": "code",
   "execution_count": 61,
   "metadata": {},
   "outputs": [
    {
     "name": "stdout",
     "output_type": "stream",
     "text": [
      "sorting an already sorted list:\n",
      "Wall time: 2 ms\n"
     ]
    }
   ],
   "source": [
    "print(\"sorting an already sorted list:\")\n",
    "%time L.sort()\n"
   ]
  },
  {
   "cell_type": "code",
   "execution_count": 64,
   "metadata": {},
   "outputs": [
    {
     "name": "stdout",
     "output_type": "stream",
     "text": [
      "Wall time: 323 ms\n"
     ]
    },
    {
     "data": {
      "text/plain": [
       "0"
      ]
     },
     "execution_count": 64,
     "metadata": {},
     "output_type": "execute_result"
    }
   ],
   "source": [
    "%%time\n",
    "total = 0\n",
    "for i in range(1000):\n",
    "    for j in range(1000):\n",
    "        total += i * (-1) ** j\n",
    "total"
   ]
  },
  {
   "cell_type": "code",
   "execution_count": 1,
   "metadata": {
    "tags": []
   },
   "outputs": [
    {
     "output_type": "stream",
     "name": "stdout",
     "text": "[189 170 189 163 183 171 185 168 173 183 173 173 175 178 183 193 178 173\n 174 183 183 168 170 178 182 180 183 178 182 188 175 179 183 193 182 183\n 177 185 188 188 182 185]\n"
    }
   ],
   "source": [
    "import pandas as pd\n",
    "import numpy as np\n",
    "data = pd.read_csv('president_heights.csv')\n",
    "heights = np.array(data['height(cm)'])\n",
    "print(heights)"
   ]
  },
  {
   "cell_type": "code",
   "execution_count": 2,
   "metadata": {
    "tags": []
   },
   "outputs": [
    {
     "output_type": "stream",
     "name": "stdout",
     "text": "Mean height:  179.73809523809524\nStandard deviation: 6.931843442745892\nMinimum height:  163\nMaximum height:  193\n"
    }
   ],
   "source": [
    "print(\"Mean height: \", heights.mean())\n",
    "print(\"Standard deviation:\", heights.std())\n",
    "print(\"Minimum height: \", heights.min()) \n",
    "print(\"Maximum height: \", heights.max())"
   ]
  },
  {
   "cell_type": "code",
   "execution_count": 3,
   "metadata": {
    "tags": []
   },
   "outputs": [
    {
     "output_type": "stream",
     "name": "stdout",
     "text": "25th percentile:  174.25\nMedian:  182.0\n75th percentile:  183.0\n"
    }
   ],
   "source": [
    "print(\"25th percentile: \", np.percentile(heights, 25))\n",
    "print(\"Median: \", np.median(heights))\n",
    "print(\"75th percentile: \", np.percentile(heights, 75))"
   ]
  },
  {
   "cell_type": "code",
   "execution_count": 7,
   "metadata": {},
   "outputs": [],
   "source": [
    "%matplotlib inline\n",
    "import matplotlib.pyplot as plt\n",
    "import seaborn\n",
    "seaborn.set()"
   ]
  },
  {
   "cell_type": "code",
   "execution_count": 8,
   "metadata": {},
   "outputs": [
    {
     "output_type": "display_data",
     "data": {
      "text/plain": "<Figure size 432x288 with 1 Axes>",
      "image/svg+xml": "<?xml version=\"1.0\" encoding=\"utf-8\" standalone=\"no\"?>\r\n<!DOCTYPE svg PUBLIC \"-//W3C//DTD SVG 1.1//EN\"\r\n  \"http://www.w3.org/Graphics/SVG/1.1/DTD/svg11.dtd\">\r\n<!-- Created with matplotlib (https://matplotlib.org/) -->\r\n<svg height=\"281.396719pt\" version=\"1.1\" viewBox=\"0 0 385.908437 281.396719\" width=\"385.908437pt\" xmlns=\"http://www.w3.org/2000/svg\" xmlns:xlink=\"http://www.w3.org/1999/xlink\">\r\n <metadata>\r\n  <rdf:RDF xmlns:cc=\"http://creativecommons.org/ns#\" xmlns:dc=\"http://purl.org/dc/elements/1.1/\" xmlns:rdf=\"http://www.w3.org/1999/02/22-rdf-syntax-ns#\">\r\n   <cc:Work>\r\n    <dc:type rdf:resource=\"http://purl.org/dc/dcmitype/StillImage\"/>\r\n    <dc:date>2020-08-09T16:44:41.379049</dc:date>\r\n    <dc:format>image/svg+xml</dc:format>\r\n    <dc:creator>\r\n     <cc:Agent>\r\n      <dc:title>Matplotlib v3.3.0, https://matplotlib.org/</dc:title>\r\n     </cc:Agent>\r\n    </dc:creator>\r\n   </cc:Work>\r\n  </rdf:RDF>\r\n </metadata>\r\n <defs>\r\n  <style type=\"text/css\">*{stroke-linecap:butt;stroke-linejoin:round;}</style>\r\n </defs>\r\n <g id=\"figure_1\">\r\n  <g id=\"patch_1\">\r\n   <path d=\"M 0 281.396719 \r\nL 385.908437 281.396719 \r\nL 385.908437 0 \r\nL 0 0 \r\nz\r\n\" style=\"fill:#ffffff;\"/>\r\n  </g>\r\n  <g id=\"axes_1\">\r\n   <g id=\"patch_2\">\r\n    <path d=\"M 43.908438 239.375625 \r\nL 378.708438 239.375625 \r\nL 378.708438 21.935625 \r\nL 43.908438 21.935625 \r\nz\r\n\" style=\"fill:#eaeaf2;\"/>\r\n   </g>\r\n   <g id=\"matplotlib.axis_1\">\r\n    <g id=\"xtick_1\">\r\n     <g id=\"line2d_1\">\r\n      <path clip-path=\"url(#peefc984877)\" d=\"M 79.417528 239.375625 \r\nL 79.417528 21.935625 \r\n\" style=\"fill:none;stroke:#ffffff;stroke-linecap:round;\"/>\r\n     </g>\r\n     <g id=\"text_1\">\r\n      <!-- 165 -->\r\n      <g style=\"fill:#262626;\" transform=\"translate(70.241982 256.749219)scale(0.11 -0.11)\">\r\n       <defs>\r\n        <path d=\"M 37.25 0 \r\nL 28.46875 0 \r\nL 28.46875 56 \r\nQ 25.296875 52.984375 20.140625 49.953125 \r\nQ 14.984375 46.921875 10.890625 45.40625 \r\nL 10.890625 53.90625 \r\nQ 18.265625 57.375 23.78125 62.296875 \r\nQ 29.296875 67.234375 31.59375 71.875 \r\nL 37.25 71.875 \r\nz\r\n\" id=\"ArialMT-49\"/>\r\n        <path d=\"M 49.75 54.046875 \r\nL 41.015625 53.375 \r\nQ 39.84375 58.546875 37.703125 60.890625 \r\nQ 34.125 64.65625 28.90625 64.65625 \r\nQ 24.703125 64.65625 21.53125 62.3125 \r\nQ 17.390625 59.28125 14.984375 53.46875 \r\nQ 12.59375 47.65625 12.5 36.921875 \r\nQ 15.671875 41.75 20.265625 44.09375 \r\nQ 24.859375 46.4375 29.890625 46.4375 \r\nQ 38.671875 46.4375 44.84375 39.96875 \r\nQ 51.03125 33.5 51.03125 23.25 \r\nQ 51.03125 16.5 48.125 10.71875 \r\nQ 45.21875 4.9375 40.140625 1.859375 \r\nQ 35.0625 -1.21875 28.609375 -1.21875 \r\nQ 17.625 -1.21875 10.6875 6.859375 \r\nQ 3.765625 14.9375 3.765625 33.5 \r\nQ 3.765625 54.25 11.421875 63.671875 \r\nQ 18.109375 71.875 29.4375 71.875 \r\nQ 37.890625 71.875 43.28125 67.140625 \r\nQ 48.6875 62.40625 49.75 54.046875 \r\nz\r\nM 13.875 23.1875 \r\nQ 13.875 18.65625 15.796875 14.5 \r\nQ 17.71875 10.359375 21.1875 8.171875 \r\nQ 24.65625 6 28.46875 6 \r\nQ 34.03125 6 38.03125 10.484375 \r\nQ 42.046875 14.984375 42.046875 22.703125 \r\nQ 42.046875 30.125 38.078125 34.390625 \r\nQ 34.125 38.671875 28.125 38.671875 \r\nQ 22.171875 38.671875 18.015625 34.390625 \r\nQ 13.875 30.125 13.875 23.1875 \r\nz\r\n\" id=\"ArialMT-54\"/>\r\n        <path d=\"M 4.15625 18.75 \r\nL 13.375 19.53125 \r\nQ 14.40625 12.796875 18.140625 9.390625 \r\nQ 21.875 6 27.15625 6 \r\nQ 33.5 6 37.890625 10.78125 \r\nQ 42.28125 15.578125 42.28125 23.484375 \r\nQ 42.28125 31 38.0625 35.34375 \r\nQ 33.84375 39.703125 27 39.703125 \r\nQ 22.75 39.703125 19.328125 37.765625 \r\nQ 15.921875 35.84375 13.96875 32.765625 \r\nL 5.71875 33.84375 \r\nL 12.640625 70.609375 \r\nL 48.25 70.609375 \r\nL 48.25 62.203125 \r\nL 19.671875 62.203125 \r\nL 15.828125 42.96875 \r\nQ 22.265625 47.46875 29.34375 47.46875 \r\nQ 38.71875 47.46875 45.15625 40.96875 \r\nQ 51.609375 34.46875 51.609375 24.265625 \r\nQ 51.609375 14.546875 45.953125 7.46875 \r\nQ 39.0625 -1.21875 27.15625 -1.21875 \r\nQ 17.390625 -1.21875 11.203125 4.25 \r\nQ 5.03125 9.71875 4.15625 18.75 \r\nz\r\n\" id=\"ArialMT-53\"/>\r\n       </defs>\r\n       <use xlink:href=\"#ArialMT-49\"/>\r\n       <use x=\"55.615234\" xlink:href=\"#ArialMT-54\"/>\r\n       <use x=\"111.230469\" xlink:href=\"#ArialMT-53\"/>\r\n      </g>\r\n     </g>\r\n    </g>\r\n    <g id=\"xtick_2\">\r\n     <g id=\"line2d_2\">\r\n      <path clip-path=\"url(#peefc984877)\" d=\"M 130.144801 239.375625 \r\nL 130.144801 21.935625 \r\n\" style=\"fill:none;stroke:#ffffff;stroke-linecap:round;\"/>\r\n     </g>\r\n     <g id=\"text_2\">\r\n      <!-- 170 -->\r\n      <g style=\"fill:#262626;\" transform=\"translate(120.969254 256.749219)scale(0.11 -0.11)\">\r\n       <defs>\r\n        <path d=\"M 4.734375 62.203125 \r\nL 4.734375 70.65625 \r\nL 51.078125 70.65625 \r\nL 51.078125 63.8125 \r\nQ 44.234375 56.546875 37.515625 44.484375 \r\nQ 30.8125 32.421875 27.15625 19.671875 \r\nQ 24.515625 10.6875 23.78125 0 \r\nL 14.75 0 \r\nQ 14.890625 8.453125 18.0625 20.40625 \r\nQ 21.234375 32.375 27.171875 43.484375 \r\nQ 33.109375 54.59375 39.796875 62.203125 \r\nz\r\n\" id=\"ArialMT-55\"/>\r\n        <path d=\"M 4.15625 35.296875 \r\nQ 4.15625 48 6.765625 55.734375 \r\nQ 9.375 63.484375 14.515625 67.671875 \r\nQ 19.671875 71.875 27.484375 71.875 \r\nQ 33.25 71.875 37.59375 69.546875 \r\nQ 41.9375 67.234375 44.765625 62.859375 \r\nQ 47.609375 58.5 49.21875 52.21875 \r\nQ 50.828125 45.953125 50.828125 35.296875 \r\nQ 50.828125 22.703125 48.234375 14.96875 \r\nQ 45.65625 7.234375 40.5 3 \r\nQ 35.359375 -1.21875 27.484375 -1.21875 \r\nQ 17.140625 -1.21875 11.234375 6.203125 \r\nQ 4.15625 15.140625 4.15625 35.296875 \r\nz\r\nM 13.1875 35.296875 \r\nQ 13.1875 17.671875 17.3125 11.828125 \r\nQ 21.4375 6 27.484375 6 \r\nQ 33.546875 6 37.671875 11.859375 \r\nQ 41.796875 17.71875 41.796875 35.296875 \r\nQ 41.796875 52.984375 37.671875 58.78125 \r\nQ 33.546875 64.59375 27.390625 64.59375 \r\nQ 21.34375 64.59375 17.71875 59.46875 \r\nQ 13.1875 52.9375 13.1875 35.296875 \r\nz\r\n\" id=\"ArialMT-48\"/>\r\n       </defs>\r\n       <use xlink:href=\"#ArialMT-49\"/>\r\n       <use x=\"55.615234\" xlink:href=\"#ArialMT-55\"/>\r\n       <use x=\"111.230469\" xlink:href=\"#ArialMT-48\"/>\r\n      </g>\r\n     </g>\r\n    </g>\r\n    <g id=\"xtick_3\">\r\n     <g id=\"line2d_3\">\r\n      <path clip-path=\"url(#peefc984877)\" d=\"M 180.872074 239.375625 \r\nL 180.872074 21.935625 \r\n\" style=\"fill:none;stroke:#ffffff;stroke-linecap:round;\"/>\r\n     </g>\r\n     <g id=\"text_3\">\r\n      <!-- 175 -->\r\n      <g style=\"fill:#262626;\" transform=\"translate(171.696527 256.749219)scale(0.11 -0.11)\">\r\n       <use xlink:href=\"#ArialMT-49\"/>\r\n       <use x=\"55.615234\" xlink:href=\"#ArialMT-55\"/>\r\n       <use x=\"111.230469\" xlink:href=\"#ArialMT-53\"/>\r\n      </g>\r\n     </g>\r\n    </g>\r\n    <g id=\"xtick_4\">\r\n     <g id=\"line2d_4\">\r\n      <path clip-path=\"url(#peefc984877)\" d=\"M 231.599347 239.375625 \r\nL 231.599347 21.935625 \r\n\" style=\"fill:none;stroke:#ffffff;stroke-linecap:round;\"/>\r\n     </g>\r\n     <g id=\"text_4\">\r\n      <!-- 180 -->\r\n      <g style=\"fill:#262626;\" transform=\"translate(222.4238 256.749219)scale(0.11 -0.11)\">\r\n       <defs>\r\n        <path d=\"M 17.671875 38.8125 \r\nQ 12.203125 40.828125 9.5625 44.53125 \r\nQ 6.9375 48.25 6.9375 53.421875 \r\nQ 6.9375 61.234375 12.546875 66.546875 \r\nQ 18.171875 71.875 27.484375 71.875 \r\nQ 36.859375 71.875 42.578125 66.421875 \r\nQ 48.296875 60.984375 48.296875 53.171875 \r\nQ 48.296875 48.1875 45.671875 44.5 \r\nQ 43.0625 40.828125 37.75 38.8125 \r\nQ 44.34375 36.671875 47.78125 31.875 \r\nQ 51.21875 27.09375 51.21875 20.453125 \r\nQ 51.21875 11.28125 44.71875 5.03125 \r\nQ 38.234375 -1.21875 27.640625 -1.21875 \r\nQ 17.046875 -1.21875 10.546875 5.046875 \r\nQ 4.046875 11.328125 4.046875 20.703125 \r\nQ 4.046875 27.6875 7.59375 32.390625 \r\nQ 11.140625 37.109375 17.671875 38.8125 \r\nz\r\nM 15.921875 53.71875 \r\nQ 15.921875 48.640625 19.1875 45.40625 \r\nQ 22.46875 42.1875 27.6875 42.1875 \r\nQ 32.765625 42.1875 36.015625 45.375 \r\nQ 39.265625 48.578125 39.265625 53.21875 \r\nQ 39.265625 58.0625 35.90625 61.359375 \r\nQ 32.5625 64.65625 27.59375 64.65625 \r\nQ 22.5625 64.65625 19.234375 61.421875 \r\nQ 15.921875 58.203125 15.921875 53.71875 \r\nz\r\nM 13.09375 20.65625 \r\nQ 13.09375 16.890625 14.875 13.375 \r\nQ 16.65625 9.859375 20.171875 7.921875 \r\nQ 23.6875 6 27.734375 6 \r\nQ 34.03125 6 38.125 10.046875 \r\nQ 42.234375 14.109375 42.234375 20.359375 \r\nQ 42.234375 26.703125 38.015625 30.859375 \r\nQ 33.796875 35.015625 27.4375 35.015625 \r\nQ 21.234375 35.015625 17.15625 30.90625 \r\nQ 13.09375 26.8125 13.09375 20.65625 \r\nz\r\n\" id=\"ArialMT-56\"/>\r\n       </defs>\r\n       <use xlink:href=\"#ArialMT-49\"/>\r\n       <use x=\"55.615234\" xlink:href=\"#ArialMT-56\"/>\r\n       <use x=\"111.230469\" xlink:href=\"#ArialMT-48\"/>\r\n      </g>\r\n     </g>\r\n    </g>\r\n    <g id=\"xtick_5\">\r\n     <g id=\"line2d_5\">\r\n      <path clip-path=\"url(#peefc984877)\" d=\"M 282.326619 239.375625 \r\nL 282.326619 21.935625 \r\n\" style=\"fill:none;stroke:#ffffff;stroke-linecap:round;\"/>\r\n     </g>\r\n     <g id=\"text_5\">\r\n      <!-- 185 -->\r\n      <g style=\"fill:#262626;\" transform=\"translate(273.151072 256.749219)scale(0.11 -0.11)\">\r\n       <use xlink:href=\"#ArialMT-49\"/>\r\n       <use x=\"55.615234\" xlink:href=\"#ArialMT-56\"/>\r\n       <use x=\"111.230469\" xlink:href=\"#ArialMT-53\"/>\r\n      </g>\r\n     </g>\r\n    </g>\r\n    <g id=\"xtick_6\">\r\n     <g id=\"line2d_6\">\r\n      <path clip-path=\"url(#peefc984877)\" d=\"M 333.053892 239.375625 \r\nL 333.053892 21.935625 \r\n\" style=\"fill:none;stroke:#ffffff;stroke-linecap:round;\"/>\r\n     </g>\r\n     <g id=\"text_6\">\r\n      <!-- 190 -->\r\n      <g style=\"fill:#262626;\" transform=\"translate(323.878345 256.749219)scale(0.11 -0.11)\">\r\n       <defs>\r\n        <path d=\"M 5.46875 16.546875 \r\nL 13.921875 17.328125 \r\nQ 14.984375 11.375 18.015625 8.6875 \r\nQ 21.046875 6 25.78125 6 \r\nQ 29.828125 6 32.875 7.859375 \r\nQ 35.9375 9.71875 37.890625 12.8125 \r\nQ 39.84375 15.921875 41.15625 21.1875 \r\nQ 42.484375 26.46875 42.484375 31.9375 \r\nQ 42.484375 32.515625 42.4375 33.6875 \r\nQ 39.796875 29.5 35.234375 26.875 \r\nQ 30.671875 24.265625 25.34375 24.265625 \r\nQ 16.453125 24.265625 10.296875 30.703125 \r\nQ 4.15625 37.15625 4.15625 47.703125 \r\nQ 4.15625 58.59375 10.578125 65.234375 \r\nQ 17 71.875 26.65625 71.875 \r\nQ 33.640625 71.875 39.421875 68.109375 \r\nQ 45.21875 64.359375 48.21875 57.390625 \r\nQ 51.21875 50.4375 51.21875 37.25 \r\nQ 51.21875 23.53125 48.234375 15.40625 \r\nQ 45.265625 7.28125 39.375 3.03125 \r\nQ 33.5 -1.21875 25.59375 -1.21875 \r\nQ 17.1875 -1.21875 11.859375 3.4375 \r\nQ 6.546875 8.109375 5.46875 16.546875 \r\nz\r\nM 41.453125 48.140625 \r\nQ 41.453125 55.71875 37.421875 60.15625 \r\nQ 33.40625 64.59375 27.734375 64.59375 \r\nQ 21.875 64.59375 17.53125 59.8125 \r\nQ 13.1875 55.03125 13.1875 47.40625 \r\nQ 13.1875 40.578125 17.3125 36.296875 \r\nQ 21.4375 32.03125 27.484375 32.03125 \r\nQ 33.59375 32.03125 37.515625 36.296875 \r\nQ 41.453125 40.578125 41.453125 48.140625 \r\nz\r\n\" id=\"ArialMT-57\"/>\r\n       </defs>\r\n       <use xlink:href=\"#ArialMT-49\"/>\r\n       <use x=\"55.615234\" xlink:href=\"#ArialMT-57\"/>\r\n       <use x=\"111.230469\" xlink:href=\"#ArialMT-48\"/>\r\n      </g>\r\n     </g>\r\n    </g>\r\n    <g id=\"text_7\">\r\n     <!-- height (cm) -->\r\n     <g style=\"fill:#262626;\" transform=\"translate(181.301875 271.671094)scale(0.12 -0.12)\">\r\n      <defs>\r\n       <path d=\"M 6.59375 0 \r\nL 6.59375 71.578125 \r\nL 15.375 71.578125 \r\nL 15.375 45.90625 \r\nQ 21.53125 53.03125 30.90625 53.03125 \r\nQ 36.671875 53.03125 40.921875 50.75 \r\nQ 45.171875 48.484375 47 44.484375 \r\nQ 48.828125 40.484375 48.828125 32.859375 \r\nL 48.828125 0 \r\nL 40.046875 0 \r\nL 40.046875 32.859375 \r\nQ 40.046875 39.453125 37.1875 42.453125 \r\nQ 34.328125 45.453125 29.109375 45.453125 \r\nQ 25.203125 45.453125 21.75 43.421875 \r\nQ 18.3125 41.40625 16.84375 37.9375 \r\nQ 15.375 34.46875 15.375 28.375 \r\nL 15.375 0 \r\nz\r\n\" id=\"ArialMT-104\"/>\r\n       <path d=\"M 42.09375 16.703125 \r\nL 51.171875 15.578125 \r\nQ 49.03125 7.625 43.21875 3.21875 \r\nQ 37.40625 -1.171875 28.375 -1.171875 \r\nQ 17 -1.171875 10.328125 5.828125 \r\nQ 3.65625 12.84375 3.65625 25.484375 \r\nQ 3.65625 38.578125 10.390625 45.796875 \r\nQ 17.140625 53.03125 27.875 53.03125 \r\nQ 38.28125 53.03125 44.875 45.953125 \r\nQ 51.46875 38.875 51.46875 26.03125 \r\nQ 51.46875 25.25 51.421875 23.6875 \r\nL 12.75 23.6875 \r\nQ 13.234375 15.140625 17.578125 10.59375 \r\nQ 21.921875 6.0625 28.421875 6.0625 \r\nQ 33.25 6.0625 36.671875 8.59375 \r\nQ 40.09375 11.140625 42.09375 16.703125 \r\nz\r\nM 13.234375 30.90625 \r\nL 42.1875 30.90625 \r\nQ 41.609375 37.453125 38.875 40.71875 \r\nQ 34.671875 45.796875 27.984375 45.796875 \r\nQ 21.921875 45.796875 17.796875 41.75 \r\nQ 13.671875 37.703125 13.234375 30.90625 \r\nz\r\n\" id=\"ArialMT-101\"/>\r\n       <path d=\"M 6.640625 61.46875 \r\nL 6.640625 71.578125 \r\nL 15.4375 71.578125 \r\nL 15.4375 61.46875 \r\nz\r\nM 6.640625 0 \r\nL 6.640625 51.859375 \r\nL 15.4375 51.859375 \r\nL 15.4375 0 \r\nz\r\n\" id=\"ArialMT-105\"/>\r\n       <path d=\"M 4.984375 -4.296875 \r\nL 13.53125 -5.5625 \r\nQ 14.0625 -9.515625 16.5 -11.328125 \r\nQ 19.78125 -13.765625 25.4375 -13.765625 \r\nQ 31.546875 -13.765625 34.859375 -11.328125 \r\nQ 38.1875 -8.890625 39.359375 -4.5 \r\nQ 40.046875 -1.8125 39.984375 6.78125 \r\nQ 34.234375 0 25.640625 0 \r\nQ 14.9375 0 9.078125 7.71875 \r\nQ 3.21875 15.4375 3.21875 26.21875 \r\nQ 3.21875 33.640625 5.90625 39.90625 \r\nQ 8.59375 46.1875 13.6875 49.609375 \r\nQ 18.796875 53.03125 25.6875 53.03125 \r\nQ 34.859375 53.03125 40.828125 45.609375 \r\nL 40.828125 51.859375 \r\nL 48.921875 51.859375 \r\nL 48.921875 7.03125 \r\nQ 48.921875 -5.078125 46.453125 -10.125 \r\nQ 44 -15.1875 38.640625 -18.109375 \r\nQ 33.296875 -21.046875 25.484375 -21.046875 \r\nQ 16.21875 -21.046875 10.5 -16.875 \r\nQ 4.78125 -12.703125 4.984375 -4.296875 \r\nz\r\nM 12.25 26.859375 \r\nQ 12.25 16.65625 16.296875 11.96875 \r\nQ 20.359375 7.28125 26.46875 7.28125 \r\nQ 32.515625 7.28125 36.609375 11.9375 \r\nQ 40.71875 16.609375 40.71875 26.5625 \r\nQ 40.71875 36.078125 36.5 40.90625 \r\nQ 32.28125 45.75 26.3125 45.75 \r\nQ 20.453125 45.75 16.34375 40.984375 \r\nQ 12.25 36.234375 12.25 26.859375 \r\nz\r\n\" id=\"ArialMT-103\"/>\r\n       <path d=\"M 25.78125 7.859375 \r\nL 27.046875 0.09375 \r\nQ 23.34375 -0.6875 20.40625 -0.6875 \r\nQ 15.625 -0.6875 12.984375 0.828125 \r\nQ 10.359375 2.34375 9.28125 4.8125 \r\nQ 8.203125 7.28125 8.203125 15.1875 \r\nL 8.203125 45.015625 \r\nL 1.765625 45.015625 \r\nL 1.765625 51.859375 \r\nL 8.203125 51.859375 \r\nL 8.203125 64.703125 \r\nL 16.9375 69.96875 \r\nL 16.9375 51.859375 \r\nL 25.78125 51.859375 \r\nL 25.78125 45.015625 \r\nL 16.9375 45.015625 \r\nL 16.9375 14.703125 \r\nQ 16.9375 10.9375 17.40625 9.859375 \r\nQ 17.875 8.796875 18.921875 8.15625 \r\nQ 19.96875 7.515625 21.921875 7.515625 \r\nQ 23.390625 7.515625 25.78125 7.859375 \r\nz\r\n\" id=\"ArialMT-116\"/>\r\n       <path id=\"ArialMT-32\"/>\r\n       <path d=\"M 23.390625 -21.046875 \r\nQ 16.109375 -11.859375 11.078125 0.4375 \r\nQ 6.0625 12.75 6.0625 25.921875 \r\nQ 6.0625 37.546875 9.8125 48.1875 \r\nQ 14.203125 60.546875 23.390625 72.796875 \r\nL 29.6875 72.796875 \r\nQ 23.78125 62.640625 21.875 58.296875 \r\nQ 18.890625 51.5625 17.1875 44.234375 \r\nQ 15.09375 35.109375 15.09375 25.875 \r\nQ 15.09375 2.390625 29.6875 -21.046875 \r\nz\r\n\" id=\"ArialMT-40\"/>\r\n       <path d=\"M 40.4375 19 \r\nL 49.078125 17.875 \r\nQ 47.65625 8.9375 41.8125 3.875 \r\nQ 35.984375 -1.171875 27.484375 -1.171875 \r\nQ 16.84375 -1.171875 10.375 5.78125 \r\nQ 3.90625 12.75 3.90625 25.734375 \r\nQ 3.90625 34.125 6.6875 40.421875 \r\nQ 9.46875 46.734375 15.15625 49.875 \r\nQ 20.84375 53.03125 27.546875 53.03125 \r\nQ 35.984375 53.03125 41.359375 48.75 \r\nQ 46.734375 44.484375 48.25 36.625 \r\nL 39.703125 35.296875 \r\nQ 38.484375 40.53125 35.375 43.15625 \r\nQ 32.28125 45.796875 27.875 45.796875 \r\nQ 21.234375 45.796875 17.078125 41.03125 \r\nQ 12.9375 36.28125 12.9375 25.984375 \r\nQ 12.9375 15.53125 16.9375 10.796875 \r\nQ 20.953125 6.0625 27.390625 6.0625 \r\nQ 32.5625 6.0625 36.03125 9.234375 \r\nQ 39.5 12.40625 40.4375 19 \r\nz\r\n\" id=\"ArialMT-99\"/>\r\n       <path d=\"M 6.59375 0 \r\nL 6.59375 51.859375 \r\nL 14.453125 51.859375 \r\nL 14.453125 44.578125 \r\nQ 16.890625 48.390625 20.9375 50.703125 \r\nQ 25 53.03125 30.171875 53.03125 \r\nQ 35.9375 53.03125 39.625 50.640625 \r\nQ 43.3125 48.25 44.828125 43.953125 \r\nQ 50.984375 53.03125 60.84375 53.03125 \r\nQ 68.5625 53.03125 72.703125 48.75 \r\nQ 76.859375 44.484375 76.859375 35.59375 \r\nL 76.859375 0 \r\nL 68.109375 0 \r\nL 68.109375 32.671875 \r\nQ 68.109375 37.9375 67.25 40.25 \r\nQ 66.40625 42.578125 64.15625 43.984375 \r\nQ 61.921875 45.40625 58.890625 45.40625 \r\nQ 53.421875 45.40625 49.796875 41.765625 \r\nQ 46.1875 38.140625 46.1875 30.125 \r\nL 46.1875 0 \r\nL 37.40625 0 \r\nL 37.40625 33.6875 \r\nQ 37.40625 39.546875 35.25 42.46875 \r\nQ 33.109375 45.40625 28.21875 45.40625 \r\nQ 24.515625 45.40625 21.359375 43.453125 \r\nQ 18.21875 41.5 16.796875 37.734375 \r\nQ 15.375 33.984375 15.375 26.90625 \r\nL 15.375 0 \r\nz\r\n\" id=\"ArialMT-109\"/>\r\n       <path d=\"M 12.359375 -21.046875 \r\nL 6.0625 -21.046875 \r\nQ 20.65625 2.390625 20.65625 25.875 \r\nQ 20.65625 35.0625 18.5625 44.09375 \r\nQ 16.890625 51.421875 13.921875 58.15625 \r\nQ 12.015625 62.546875 6.0625 72.796875 \r\nL 12.359375 72.796875 \r\nQ 21.53125 60.546875 25.921875 48.1875 \r\nQ 29.6875 37.546875 29.6875 25.921875 \r\nQ 29.6875 12.75 24.625 0.4375 \r\nQ 19.578125 -11.859375 12.359375 -21.046875 \r\nz\r\n\" id=\"ArialMT-41\"/>\r\n      </defs>\r\n      <use xlink:href=\"#ArialMT-104\"/>\r\n      <use x=\"55.615234\" xlink:href=\"#ArialMT-101\"/>\r\n      <use x=\"111.230469\" xlink:href=\"#ArialMT-105\"/>\r\n      <use x=\"133.447266\" xlink:href=\"#ArialMT-103\"/>\r\n      <use x=\"189.0625\" xlink:href=\"#ArialMT-104\"/>\r\n      <use x=\"244.677734\" xlink:href=\"#ArialMT-116\"/>\r\n      <use x=\"272.460938\" xlink:href=\"#ArialMT-32\"/>\r\n      <use x=\"300.244141\" xlink:href=\"#ArialMT-40\"/>\r\n      <use x=\"333.544922\" xlink:href=\"#ArialMT-99\"/>\r\n      <use x=\"383.544922\" xlink:href=\"#ArialMT-109\"/>\r\n      <use x=\"466.845703\" xlink:href=\"#ArialMT-41\"/>\r\n     </g>\r\n    </g>\r\n   </g>\r\n   <g id=\"matplotlib.axis_2\">\r\n    <g id=\"ytick_1\">\r\n     <g id=\"line2d_7\">\r\n      <path clip-path=\"url(#peefc984877)\" d=\"M 43.908438 239.375625 \r\nL 378.708438 239.375625 \r\n\" style=\"fill:none;stroke:#ffffff;stroke-linecap:round;\"/>\r\n     </g>\r\n     <g id=\"text_8\">\r\n      <!-- 0 -->\r\n      <g style=\"fill:#262626;\" transform=\"translate(28.291406 243.312422)scale(0.11 -0.11)\">\r\n       <use xlink:href=\"#ArialMT-48\"/>\r\n      </g>\r\n     </g>\r\n    </g>\r\n    <g id=\"ytick_2\">\r\n     <g id=\"line2d_8\">\r\n      <path clip-path=\"url(#peefc984877)\" d=\"M 43.908438 204.861339 \r\nL 378.708438 204.861339 \r\n\" style=\"fill:none;stroke:#ffffff;stroke-linecap:round;\"/>\r\n     </g>\r\n     <g id=\"text_9\">\r\n      <!-- 2 -->\r\n      <g style=\"fill:#262626;\" transform=\"translate(28.291406 208.798136)scale(0.11 -0.11)\">\r\n       <defs>\r\n        <path d=\"M 50.34375 8.453125 \r\nL 50.34375 0 \r\nL 3.03125 0 \r\nQ 2.9375 3.171875 4.046875 6.109375 \r\nQ 5.859375 10.9375 9.828125 15.625 \r\nQ 13.8125 20.3125 21.34375 26.46875 \r\nQ 33.015625 36.03125 37.109375 41.625 \r\nQ 41.21875 47.21875 41.21875 52.203125 \r\nQ 41.21875 57.421875 37.46875 61 \r\nQ 33.734375 64.59375 27.734375 64.59375 \r\nQ 21.390625 64.59375 17.578125 60.78125 \r\nQ 13.765625 56.984375 13.71875 50.25 \r\nL 4.6875 51.171875 \r\nQ 5.609375 61.28125 11.65625 66.578125 \r\nQ 17.71875 71.875 27.9375 71.875 \r\nQ 38.234375 71.875 44.234375 66.15625 \r\nQ 50.25 60.453125 50.25 52 \r\nQ 50.25 47.703125 48.484375 43.546875 \r\nQ 46.734375 39.40625 42.65625 34.8125 \r\nQ 38.578125 30.21875 29.109375 22.21875 \r\nQ 21.1875 15.578125 18.9375 13.203125 \r\nQ 16.703125 10.84375 15.234375 8.453125 \r\nz\r\n\" id=\"ArialMT-50\"/>\r\n       </defs>\r\n       <use xlink:href=\"#ArialMT-50\"/>\r\n      </g>\r\n     </g>\r\n    </g>\r\n    <g id=\"ytick_3\">\r\n     <g id=\"line2d_9\">\r\n      <path clip-path=\"url(#peefc984877)\" d=\"M 43.908438 170.347054 \r\nL 378.708438 170.347054 \r\n\" style=\"fill:none;stroke:#ffffff;stroke-linecap:round;\"/>\r\n     </g>\r\n     <g id=\"text_10\">\r\n      <!-- 4 -->\r\n      <g style=\"fill:#262626;\" transform=\"translate(28.291406 174.28385)scale(0.11 -0.11)\">\r\n       <defs>\r\n        <path d=\"M 32.328125 0 \r\nL 32.328125 17.140625 \r\nL 1.265625 17.140625 \r\nL 1.265625 25.203125 \r\nL 33.9375 71.578125 \r\nL 41.109375 71.578125 \r\nL 41.109375 25.203125 \r\nL 50.78125 25.203125 \r\nL 50.78125 17.140625 \r\nL 41.109375 17.140625 \r\nL 41.109375 0 \r\nz\r\nM 32.328125 25.203125 \r\nL 32.328125 57.46875 \r\nL 9.90625 25.203125 \r\nz\r\n\" id=\"ArialMT-52\"/>\r\n       </defs>\r\n       <use xlink:href=\"#ArialMT-52\"/>\r\n      </g>\r\n     </g>\r\n    </g>\r\n    <g id=\"ytick_4\">\r\n     <g id=\"line2d_10\">\r\n      <path clip-path=\"url(#peefc984877)\" d=\"M 43.908438 135.832768 \r\nL 378.708438 135.832768 \r\n\" style=\"fill:none;stroke:#ffffff;stroke-linecap:round;\"/>\r\n     </g>\r\n     <g id=\"text_11\">\r\n      <!-- 6 -->\r\n      <g style=\"fill:#262626;\" transform=\"translate(28.291406 139.769565)scale(0.11 -0.11)\">\r\n       <use xlink:href=\"#ArialMT-54\"/>\r\n      </g>\r\n     </g>\r\n    </g>\r\n    <g id=\"ytick_5\">\r\n     <g id=\"line2d_11\">\r\n      <path clip-path=\"url(#peefc984877)\" d=\"M 43.908438 101.318482 \r\nL 378.708438 101.318482 \r\n\" style=\"fill:none;stroke:#ffffff;stroke-linecap:round;\"/>\r\n     </g>\r\n     <g id=\"text_12\">\r\n      <!-- 8 -->\r\n      <g style=\"fill:#262626;\" transform=\"translate(28.291406 105.255279)scale(0.11 -0.11)\">\r\n       <use xlink:href=\"#ArialMT-56\"/>\r\n      </g>\r\n     </g>\r\n    </g>\r\n    <g id=\"ytick_6\">\r\n     <g id=\"line2d_12\">\r\n      <path clip-path=\"url(#peefc984877)\" d=\"M 43.908438 66.804196 \r\nL 378.708438 66.804196 \r\n\" style=\"fill:none;stroke:#ffffff;stroke-linecap:round;\"/>\r\n     </g>\r\n     <g id=\"text_13\">\r\n      <!-- 10 -->\r\n      <g style=\"fill:#262626;\" transform=\"translate(22.174375 70.740993)scale(0.11 -0.11)\">\r\n       <use xlink:href=\"#ArialMT-49\"/>\r\n       <use x=\"55.615234\" xlink:href=\"#ArialMT-48\"/>\r\n      </g>\r\n     </g>\r\n    </g>\r\n    <g id=\"ytick_7\">\r\n     <g id=\"line2d_13\">\r\n      <path clip-path=\"url(#peefc984877)\" d=\"M 43.908438 32.289911 \r\nL 378.708438 32.289911 \r\n\" style=\"fill:none;stroke:#ffffff;stroke-linecap:round;\"/>\r\n     </g>\r\n     <g id=\"text_14\">\r\n      <!-- 12 -->\r\n      <g style=\"fill:#262626;\" transform=\"translate(22.174375 36.226708)scale(0.11 -0.11)\">\r\n       <use xlink:href=\"#ArialMT-49\"/>\r\n       <use x=\"55.615234\" xlink:href=\"#ArialMT-50\"/>\r\n      </g>\r\n     </g>\r\n    </g>\r\n    <g id=\"text_15\">\r\n     <!-- number -->\r\n     <g style=\"fill:#262626;\" transform=\"translate(15.789375 150.9975)rotate(-90)scale(0.12 -0.12)\">\r\n      <defs>\r\n       <path d=\"M 6.59375 0 \r\nL 6.59375 51.859375 \r\nL 14.5 51.859375 \r\nL 14.5 44.484375 \r\nQ 20.21875 53.03125 31 53.03125 \r\nQ 35.6875 53.03125 39.625 51.34375 \r\nQ 43.5625 49.65625 45.515625 46.921875 \r\nQ 47.46875 44.1875 48.25 40.4375 \r\nQ 48.734375 37.984375 48.734375 31.890625 \r\nL 48.734375 0 \r\nL 39.9375 0 \r\nL 39.9375 31.546875 \r\nQ 39.9375 36.921875 38.90625 39.578125 \r\nQ 37.890625 42.234375 35.28125 43.8125 \r\nQ 32.671875 45.40625 29.15625 45.40625 \r\nQ 23.53125 45.40625 19.453125 41.84375 \r\nQ 15.375 38.28125 15.375 28.328125 \r\nL 15.375 0 \r\nz\r\n\" id=\"ArialMT-110\"/>\r\n       <path d=\"M 40.578125 0 \r\nL 40.578125 7.625 \r\nQ 34.515625 -1.171875 24.125 -1.171875 \r\nQ 19.53125 -1.171875 15.546875 0.578125 \r\nQ 11.578125 2.34375 9.640625 5 \r\nQ 7.71875 7.671875 6.9375 11.53125 \r\nQ 6.390625 14.109375 6.390625 19.734375 \r\nL 6.390625 51.859375 \r\nL 15.1875 51.859375 \r\nL 15.1875 23.09375 \r\nQ 15.1875 16.21875 15.71875 13.8125 \r\nQ 16.546875 10.359375 19.234375 8.375 \r\nQ 21.921875 6.390625 25.875 6.390625 \r\nQ 29.828125 6.390625 33.296875 8.421875 \r\nQ 36.765625 10.453125 38.203125 13.9375 \r\nQ 39.65625 17.4375 39.65625 24.078125 \r\nL 39.65625 51.859375 \r\nL 48.4375 51.859375 \r\nL 48.4375 0 \r\nz\r\n\" id=\"ArialMT-117\"/>\r\n       <path d=\"M 14.703125 0 \r\nL 6.546875 0 \r\nL 6.546875 71.578125 \r\nL 15.328125 71.578125 \r\nL 15.328125 46.046875 \r\nQ 20.90625 53.03125 29.546875 53.03125 \r\nQ 34.328125 53.03125 38.59375 51.09375 \r\nQ 42.875 49.171875 45.625 45.671875 \r\nQ 48.390625 42.1875 49.953125 37.25 \r\nQ 51.515625 32.328125 51.515625 26.703125 \r\nQ 51.515625 13.375 44.921875 6.09375 \r\nQ 38.328125 -1.171875 29.109375 -1.171875 \r\nQ 19.921875 -1.171875 14.703125 6.5 \r\nz\r\nM 14.59375 26.3125 \r\nQ 14.59375 17 17.140625 12.84375 \r\nQ 21.296875 6.0625 28.375 6.0625 \r\nQ 34.125 6.0625 38.328125 11.0625 \r\nQ 42.53125 16.0625 42.53125 25.984375 \r\nQ 42.53125 36.140625 38.5 40.96875 \r\nQ 34.46875 45.796875 28.765625 45.796875 \r\nQ 23 45.796875 18.796875 40.796875 \r\nQ 14.59375 35.796875 14.59375 26.3125 \r\nz\r\n\" id=\"ArialMT-98\"/>\r\n       <path d=\"M 6.5 0 \r\nL 6.5 51.859375 \r\nL 14.40625 51.859375 \r\nL 14.40625 44 \r\nQ 17.4375 49.515625 20 51.265625 \r\nQ 22.5625 53.03125 25.640625 53.03125 \r\nQ 30.078125 53.03125 34.671875 50.203125 \r\nL 31.640625 42.046875 \r\nQ 28.421875 43.953125 25.203125 43.953125 \r\nQ 22.3125 43.953125 20.015625 42.21875 \r\nQ 17.71875 40.484375 16.75 37.40625 \r\nQ 15.28125 32.71875 15.28125 27.15625 \r\nL 15.28125 0 \r\nz\r\n\" id=\"ArialMT-114\"/>\r\n      </defs>\r\n      <use xlink:href=\"#ArialMT-110\"/>\r\n      <use x=\"55.615234\" xlink:href=\"#ArialMT-117\"/>\r\n      <use x=\"111.230469\" xlink:href=\"#ArialMT-109\"/>\r\n      <use x=\"194.53125\" xlink:href=\"#ArialMT-98\"/>\r\n      <use x=\"250.146484\" xlink:href=\"#ArialMT-101\"/>\r\n      <use x=\"305.761719\" xlink:href=\"#ArialMT-114\"/>\r\n     </g>\r\n    </g>\r\n   </g>\r\n   <g id=\"patch_3\">\r\n    <path clip-path=\"url(#peefc984877)\" d=\"M 59.126619 239.375625 \r\nL 89.562983 239.375625 \r\nL 89.562983 222.118482 \r\nL 59.126619 222.118482 \r\nz\r\n\" style=\"fill:#4c72b0;stroke:#ffffff;stroke-linejoin:miter;\"/>\r\n   </g>\r\n   <g id=\"patch_4\">\r\n    <path clip-path=\"url(#peefc984877)\" d=\"M 89.562983 239.375625 \r\nL 119.999347 239.375625 \r\nL 119.999347 204.861339 \r\nL 89.562983 204.861339 \r\nz\r\n\" style=\"fill:#4c72b0;stroke:#ffffff;stroke-linejoin:miter;\"/>\r\n   </g>\r\n   <g id=\"patch_5\">\r\n    <path clip-path=\"url(#peefc984877)\" d=\"M 119.999347 239.375625 \r\nL 150.43571 239.375625 \r\nL 150.43571 187.604196 \r\nL 119.999347 187.604196 \r\nz\r\n\" style=\"fill:#4c72b0;stroke:#ffffff;stroke-linejoin:miter;\"/>\r\n   </g>\r\n   <g id=\"patch_6\">\r\n    <path clip-path=\"url(#peefc984877)\" d=\"M 150.43571 239.375625 \r\nL 180.872074 239.375625 \r\nL 180.872074 153.089911 \r\nL 150.43571 153.089911 \r\nz\r\n\" style=\"fill:#4c72b0;stroke:#ffffff;stroke-linejoin:miter;\"/>\r\n   </g>\r\n   <g id=\"patch_7\">\r\n    <path clip-path=\"url(#peefc984877)\" d=\"M 180.872074 239.375625 \r\nL 211.308438 239.375625 \r\nL 211.308438 187.604196 \r\nL 180.872074 187.604196 \r\nz\r\n\" style=\"fill:#4c72b0;stroke:#ffffff;stroke-linejoin:miter;\"/>\r\n   </g>\r\n   <g id=\"patch_8\">\r\n    <path clip-path=\"url(#peefc984877)\" d=\"M 211.308437 239.375625 \r\nL 241.744801 239.375625 \r\nL 241.744801 135.832768 \r\nL 211.308437 135.832768 \r\nz\r\n\" style=\"fill:#4c72b0;stroke:#ffffff;stroke-linejoin:miter;\"/>\r\n   </g>\r\n   <g id=\"patch_9\">\r\n    <path clip-path=\"url(#peefc984877)\" d=\"M 241.744801 239.375625 \r\nL 272.181165 239.375625 \r\nL 272.181165 32.289911 \r\nL 241.744801 32.289911 \r\nz\r\n\" style=\"fill:#4c72b0;stroke:#ffffff;stroke-linejoin:miter;\"/>\r\n   </g>\r\n   <g id=\"patch_10\">\r\n    <path clip-path=\"url(#peefc984877)\" d=\"M 272.181165 239.375625 \r\nL 302.617528 239.375625 \r\nL 302.617528 187.604196 \r\nL 272.181165 187.604196 \r\nz\r\n\" style=\"fill:#4c72b0;stroke:#ffffff;stroke-linejoin:miter;\"/>\r\n   </g>\r\n   <g id=\"patch_11\">\r\n    <path clip-path=\"url(#peefc984877)\" d=\"M 302.617528 239.375625 \r\nL 333.053892 239.375625 \r\nL 333.053892 153.089911 \r\nL 302.617528 153.089911 \r\nz\r\n\" style=\"fill:#4c72b0;stroke:#ffffff;stroke-linejoin:miter;\"/>\r\n   </g>\r\n   <g id=\"patch_12\">\r\n    <path clip-path=\"url(#peefc984877)\" d=\"M 333.053892 239.375625 \r\nL 363.490256 239.375625 \r\nL 363.490256 204.861339 \r\nL 333.053892 204.861339 \r\nz\r\n\" style=\"fill:#4c72b0;stroke:#ffffff;stroke-linejoin:miter;\"/>\r\n   </g>\r\n   <g id=\"patch_13\">\r\n    <path d=\"M 43.908438 239.375625 \r\nL 43.908438 21.935625 \r\n\" style=\"fill:none;stroke:#ffffff;stroke-linecap:square;stroke-linejoin:miter;stroke-width:1.25;\"/>\r\n   </g>\r\n   <g id=\"patch_14\">\r\n    <path d=\"M 378.708438 239.375625 \r\nL 378.708438 21.935625 \r\n\" style=\"fill:none;stroke:#ffffff;stroke-linecap:square;stroke-linejoin:miter;stroke-width:1.25;\"/>\r\n   </g>\r\n   <g id=\"patch_15\">\r\n    <path d=\"M 43.908437 239.375625 \r\nL 378.708437 239.375625 \r\n\" style=\"fill:none;stroke:#ffffff;stroke-linecap:square;stroke-linejoin:miter;stroke-width:1.25;\"/>\r\n   </g>\r\n   <g id=\"patch_16\">\r\n    <path d=\"M 43.908437 21.935625 \r\nL 378.708437 21.935625 \r\n\" style=\"fill:none;stroke:#ffffff;stroke-linecap:square;stroke-linejoin:miter;stroke-width:1.25;\"/>\r\n   </g>\r\n   <g id=\"text_16\">\r\n    <!-- Height Distribution of US Presidents -->\r\n    <g style=\"fill:#262626;\" transform=\"translate(115.602813 15.935625)scale(0.12 -0.12)\">\r\n     <defs>\r\n      <path d=\"M 8.015625 0 \r\nL 8.015625 71.578125 \r\nL 17.484375 71.578125 \r\nL 17.484375 42.1875 \r\nL 54.6875 42.1875 \r\nL 54.6875 71.578125 \r\nL 64.15625 71.578125 \r\nL 64.15625 0 \r\nL 54.6875 0 \r\nL 54.6875 33.734375 \r\nL 17.484375 33.734375 \r\nL 17.484375 0 \r\nz\r\n\" id=\"ArialMT-72\"/>\r\n      <path d=\"M 7.71875 0 \r\nL 7.71875 71.578125 \r\nL 32.375 71.578125 \r\nQ 40.71875 71.578125 45.125 70.5625 \r\nQ 51.265625 69.140625 55.609375 65.4375 \r\nQ 61.28125 60.640625 64.078125 53.1875 \r\nQ 66.890625 45.75 66.890625 36.1875 \r\nQ 66.890625 28.03125 64.984375 21.734375 \r\nQ 63.09375 15.4375 60.109375 11.296875 \r\nQ 57.125 7.171875 53.578125 4.796875 \r\nQ 50.046875 2.4375 45.046875 1.21875 \r\nQ 40.046875 0 33.546875 0 \r\nz\r\nM 17.1875 8.453125 \r\nL 32.46875 8.453125 \r\nQ 39.546875 8.453125 43.578125 9.765625 \r\nQ 47.609375 11.078125 50 13.484375 \r\nQ 53.375 16.84375 55.25 22.53125 \r\nQ 57.125 28.21875 57.125 36.328125 \r\nQ 57.125 47.5625 53.4375 53.59375 \r\nQ 49.75 59.625 44.484375 61.671875 \r\nQ 40.671875 63.140625 32.234375 63.140625 \r\nL 17.1875 63.140625 \r\nz\r\n\" id=\"ArialMT-68\"/>\r\n      <path d=\"M 3.078125 15.484375 \r\nL 11.765625 16.84375 \r\nQ 12.5 11.625 15.84375 8.84375 \r\nQ 19.1875 6.0625 25.203125 6.0625 \r\nQ 31.25 6.0625 34.171875 8.515625 \r\nQ 37.109375 10.984375 37.109375 14.3125 \r\nQ 37.109375 17.28125 34.515625 19 \r\nQ 32.71875 20.171875 25.53125 21.96875 \r\nQ 15.875 24.421875 12.140625 26.203125 \r\nQ 8.40625 27.984375 6.46875 31.125 \r\nQ 4.546875 34.28125 4.546875 38.09375 \r\nQ 4.546875 41.546875 6.125 44.5 \r\nQ 7.71875 47.46875 10.453125 49.421875 \r\nQ 12.5 50.921875 16.03125 51.96875 \r\nQ 19.578125 53.03125 23.640625 53.03125 \r\nQ 29.734375 53.03125 34.34375 51.265625 \r\nQ 38.96875 49.515625 41.15625 46.5 \r\nQ 43.359375 43.5 44.1875 38.484375 \r\nL 35.59375 37.3125 \r\nQ 35.015625 41.3125 32.203125 43.546875 \r\nQ 29.390625 45.796875 24.265625 45.796875 \r\nQ 18.21875 45.796875 15.625 43.796875 \r\nQ 13.03125 41.796875 13.03125 39.109375 \r\nQ 13.03125 37.40625 14.109375 36.03125 \r\nQ 15.1875 34.625 17.484375 33.6875 \r\nQ 18.796875 33.203125 25.25 31.453125 \r\nQ 34.578125 28.953125 38.25 27.359375 \r\nQ 41.9375 25.78125 44.03125 22.75 \r\nQ 46.140625 19.734375 46.140625 15.234375 \r\nQ 46.140625 10.84375 43.578125 6.953125 \r\nQ 41.015625 3.078125 36.171875 0.953125 \r\nQ 31.34375 -1.171875 25.25 -1.171875 \r\nQ 15.140625 -1.171875 9.84375 3.03125 \r\nQ 4.546875 7.234375 3.078125 15.484375 \r\nz\r\n\" id=\"ArialMT-115\"/>\r\n      <path d=\"M 3.328125 25.921875 \r\nQ 3.328125 40.328125 11.328125 47.265625 \r\nQ 18.015625 53.03125 27.640625 53.03125 \r\nQ 38.328125 53.03125 45.109375 46.015625 \r\nQ 51.90625 39.015625 51.90625 26.65625 \r\nQ 51.90625 16.65625 48.90625 10.90625 \r\nQ 45.90625 5.171875 40.15625 2 \r\nQ 34.421875 -1.171875 27.640625 -1.171875 \r\nQ 16.75 -1.171875 10.03125 5.8125 \r\nQ 3.328125 12.796875 3.328125 25.921875 \r\nz\r\nM 12.359375 25.921875 \r\nQ 12.359375 15.96875 16.703125 11.015625 \r\nQ 21.046875 6.0625 27.640625 6.0625 \r\nQ 34.1875 6.0625 38.53125 11.03125 \r\nQ 42.875 16.015625 42.875 26.21875 \r\nQ 42.875 35.84375 38.5 40.796875 \r\nQ 34.125 45.75 27.640625 45.75 \r\nQ 21.046875 45.75 16.703125 40.8125 \r\nQ 12.359375 35.890625 12.359375 25.921875 \r\nz\r\n\" id=\"ArialMT-111\"/>\r\n      <path d=\"M 8.6875 0 \r\nL 8.6875 45.015625 \r\nL 0.921875 45.015625 \r\nL 0.921875 51.859375 \r\nL 8.6875 51.859375 \r\nL 8.6875 57.375 \r\nQ 8.6875 62.59375 9.625 65.140625 \r\nQ 10.890625 68.5625 14.078125 70.671875 \r\nQ 17.28125 72.796875 23.046875 72.796875 \r\nQ 26.765625 72.796875 31.25 71.921875 \r\nL 29.9375 64.265625 \r\nQ 27.203125 64.75 24.75 64.75 \r\nQ 20.75 64.75 19.09375 63.03125 \r\nQ 17.4375 61.328125 17.4375 56.640625 \r\nL 17.4375 51.859375 \r\nL 27.546875 51.859375 \r\nL 27.546875 45.015625 \r\nL 17.4375 45.015625 \r\nL 17.4375 0 \r\nz\r\n\" id=\"ArialMT-102\"/>\r\n      <path d=\"M 54.6875 71.578125 \r\nL 64.15625 71.578125 \r\nL 64.15625 30.21875 \r\nQ 64.15625 19.4375 61.71875 13.078125 \r\nQ 59.28125 6.734375 52.90625 2.75 \r\nQ 46.53125 -1.21875 36.1875 -1.21875 \r\nQ 26.125 -1.21875 19.71875 2.25 \r\nQ 13.328125 5.71875 10.59375 12.28125 \r\nQ 7.859375 18.84375 7.859375 30.21875 \r\nL 7.859375 71.578125 \r\nL 17.328125 71.578125 \r\nL 17.328125 30.28125 \r\nQ 17.328125 20.953125 19.0625 16.53125 \r\nQ 20.796875 12.109375 25.015625 9.71875 \r\nQ 29.25 7.328125 35.359375 7.328125 \r\nQ 45.796875 7.328125 50.234375 12.0625 \r\nQ 54.6875 16.796875 54.6875 30.28125 \r\nz\r\n\" id=\"ArialMT-85\"/>\r\n      <path d=\"M 4.5 23 \r\nL 13.421875 23.78125 \r\nQ 14.0625 18.40625 16.375 14.96875 \r\nQ 18.703125 11.53125 23.578125 9.40625 \r\nQ 28.46875 7.28125 34.578125 7.28125 \r\nQ 39.984375 7.28125 44.140625 8.890625 \r\nQ 48.296875 10.5 50.3125 13.296875 \r\nQ 52.34375 16.109375 52.34375 19.4375 \r\nQ 52.34375 22.796875 50.390625 25.3125 \r\nQ 48.4375 27.828125 43.953125 29.546875 \r\nQ 41.0625 30.671875 31.203125 33.03125 \r\nQ 21.34375 35.40625 17.390625 37.5 \r\nQ 12.25 40.1875 9.734375 44.15625 \r\nQ 7.234375 48.140625 7.234375 53.078125 \r\nQ 7.234375 58.5 10.296875 63.203125 \r\nQ 13.375 67.921875 19.28125 70.359375 \r\nQ 25.203125 72.796875 32.421875 72.796875 \r\nQ 40.375 72.796875 46.453125 70.234375 \r\nQ 52.546875 67.671875 55.8125 62.6875 \r\nQ 59.078125 57.71875 59.328125 51.421875 \r\nL 50.25 50.734375 \r\nQ 49.515625 57.515625 45.28125 60.984375 \r\nQ 41.0625 64.453125 32.8125 64.453125 \r\nQ 24.21875 64.453125 20.28125 61.296875 \r\nQ 16.359375 58.15625 16.359375 53.71875 \r\nQ 16.359375 49.859375 19.140625 47.359375 \r\nQ 21.875 44.875 33.421875 42.265625 \r\nQ 44.96875 39.65625 49.265625 37.703125 \r\nQ 55.515625 34.8125 58.484375 30.390625 \r\nQ 61.46875 25.984375 61.46875 20.21875 \r\nQ 61.46875 14.5 58.203125 9.4375 \r\nQ 54.9375 4.390625 48.796875 1.578125 \r\nQ 42.671875 -1.21875 35.015625 -1.21875 \r\nQ 25.296875 -1.21875 18.71875 1.609375 \r\nQ 12.15625 4.4375 8.421875 10.125 \r\nQ 4.6875 15.828125 4.5 23 \r\nz\r\n\" id=\"ArialMT-83\"/>\r\n      <path d=\"M 7.71875 0 \r\nL 7.71875 71.578125 \r\nL 34.71875 71.578125 \r\nQ 41.84375 71.578125 45.609375 70.90625 \r\nQ 50.875 70.015625 54.4375 67.546875 \r\nQ 58.015625 65.09375 60.1875 60.640625 \r\nQ 62.359375 56.203125 62.359375 50.875 \r\nQ 62.359375 41.75 56.546875 35.421875 \r\nQ 50.734375 29.109375 35.546875 29.109375 \r\nL 17.1875 29.109375 \r\nL 17.1875 0 \r\nz\r\nM 17.1875 37.546875 \r\nL 35.6875 37.546875 \r\nQ 44.875 37.546875 48.734375 40.96875 \r\nQ 52.59375 44.390625 52.59375 50.59375 \r\nQ 52.59375 55.078125 50.3125 58.265625 \r\nQ 48.046875 61.46875 44.34375 62.5 \r\nQ 41.9375 63.140625 35.5 63.140625 \r\nL 17.1875 63.140625 \r\nz\r\n\" id=\"ArialMT-80\"/>\r\n      <path d=\"M 40.234375 0 \r\nL 40.234375 6.546875 \r\nQ 35.296875 -1.171875 25.734375 -1.171875 \r\nQ 19.53125 -1.171875 14.328125 2.25 \r\nQ 9.125 5.671875 6.265625 11.796875 \r\nQ 3.421875 17.921875 3.421875 25.875 \r\nQ 3.421875 33.640625 6 39.96875 \r\nQ 8.59375 46.296875 13.765625 49.65625 \r\nQ 18.953125 53.03125 25.34375 53.03125 \r\nQ 30.03125 53.03125 33.6875 51.046875 \r\nQ 37.359375 49.078125 39.65625 45.90625 \r\nL 39.65625 71.578125 \r\nL 48.390625 71.578125 \r\nL 48.390625 0 \r\nz\r\nM 12.453125 25.875 \r\nQ 12.453125 15.921875 16.640625 10.984375 \r\nQ 20.84375 6.0625 26.5625 6.0625 \r\nQ 32.328125 6.0625 36.34375 10.765625 \r\nQ 40.375 15.484375 40.375 25.140625 \r\nQ 40.375 35.796875 36.265625 40.765625 \r\nQ 32.171875 45.75 26.171875 45.75 \r\nQ 20.3125 45.75 16.375 40.96875 \r\nQ 12.453125 36.1875 12.453125 25.875 \r\nz\r\n\" id=\"ArialMT-100\"/>\r\n     </defs>\r\n     <use xlink:href=\"#ArialMT-72\"/>\r\n     <use x=\"72.216797\" xlink:href=\"#ArialMT-101\"/>\r\n     <use x=\"127.832031\" xlink:href=\"#ArialMT-105\"/>\r\n     <use x=\"150.048828\" xlink:href=\"#ArialMT-103\"/>\r\n     <use x=\"205.664062\" xlink:href=\"#ArialMT-104\"/>\r\n     <use x=\"261.279297\" xlink:href=\"#ArialMT-116\"/>\r\n     <use x=\"289.0625\" xlink:href=\"#ArialMT-32\"/>\r\n     <use x=\"316.845703\" xlink:href=\"#ArialMT-68\"/>\r\n     <use x=\"389.0625\" xlink:href=\"#ArialMT-105\"/>\r\n     <use x=\"411.279297\" xlink:href=\"#ArialMT-115\"/>\r\n     <use x=\"461.279297\" xlink:href=\"#ArialMT-116\"/>\r\n     <use x=\"489.0625\" xlink:href=\"#ArialMT-114\"/>\r\n     <use x=\"522.363281\" xlink:href=\"#ArialMT-105\"/>\r\n     <use x=\"544.580078\" xlink:href=\"#ArialMT-98\"/>\r\n     <use x=\"600.195312\" xlink:href=\"#ArialMT-117\"/>\r\n     <use x=\"655.810547\" xlink:href=\"#ArialMT-116\"/>\r\n     <use x=\"683.59375\" xlink:href=\"#ArialMT-105\"/>\r\n     <use x=\"705.810547\" xlink:href=\"#ArialMT-111\"/>\r\n     <use x=\"761.425781\" xlink:href=\"#ArialMT-110\"/>\r\n     <use x=\"817.041016\" xlink:href=\"#ArialMT-32\"/>\r\n     <use x=\"844.824219\" xlink:href=\"#ArialMT-111\"/>\r\n     <use x=\"900.439453\" xlink:href=\"#ArialMT-102\"/>\r\n     <use x=\"928.222656\" xlink:href=\"#ArialMT-32\"/>\r\n     <use x=\"956.005859\" xlink:href=\"#ArialMT-85\"/>\r\n     <use x=\"1028.222656\" xlink:href=\"#ArialMT-83\"/>\r\n     <use x=\"1094.921875\" xlink:href=\"#ArialMT-32\"/>\r\n     <use x=\"1122.705078\" xlink:href=\"#ArialMT-80\"/>\r\n     <use x=\"1189.404297\" xlink:href=\"#ArialMT-114\"/>\r\n     <use x=\"1222.705078\" xlink:href=\"#ArialMT-101\"/>\r\n     <use x=\"1278.320312\" xlink:href=\"#ArialMT-115\"/>\r\n     <use x=\"1328.320312\" xlink:href=\"#ArialMT-105\"/>\r\n     <use x=\"1350.537109\" xlink:href=\"#ArialMT-100\"/>\r\n     <use x=\"1406.152344\" xlink:href=\"#ArialMT-101\"/>\r\n     <use x=\"1461.767578\" xlink:href=\"#ArialMT-110\"/>\r\n     <use x=\"1517.382812\" xlink:href=\"#ArialMT-116\"/>\r\n     <use x=\"1545.166016\" xlink:href=\"#ArialMT-115\"/>\r\n    </g>\r\n   </g>\r\n  </g>\r\n </g>\r\n <defs>\r\n  <clipPath id=\"peefc984877\">\r\n   <rect height=\"217.44\" width=\"334.8\" x=\"43.908438\" y=\"21.935625\"/>\r\n  </clipPath>\r\n </defs>\r\n</svg>\r\n",
      "image/png": "[encoded data removed]"
     },
     "metadata": {}
    }
   ],
   "source": [
    "plt.hist(heights)\n",
    "plt.title('Height Distribution of US Presidents')\n",
    "plt.xlabel('height (cm)')\n",
    "plt.ylabel('number');"
   ]
  },
  {
   "cell_type": "code",
   "execution_count": 2,
   "metadata": {},
   "outputs": [],
   "source": [
    "import random"
   ]
  },
  {
   "cell_type": "code",
   "execution_count": 4,
   "metadata": {},
   "outputs": [
    {
     "output_type": "execute_result",
     "data": {
      "text/plain": "array([[0.16697186, 0.89650563, 0.33190451],\n       [0.76790804, 0.28054761, 0.8188906 ],\n       [0.37267471, 0.66016585, 0.76792386],\n       [0.62651511, 0.66147869, 0.38396051],\n       [0.71068202, 0.03683266, 0.34398936],\n       [0.16354362, 0.63039213, 0.19679748],\n       [0.50123374, 0.06386603, 0.14613257],\n       [0.49847835, 0.86910288, 0.22160577],\n       [0.47403985, 0.29239123, 0.31066714],\n       [0.95121344, 0.64099764, 0.11072097]])"
     },
     "metadata": {},
     "execution_count": 4
    }
   ],
   "source": [
    "X = np.random.random((10,3))\n",
    "X"
   ]
  },
  {
   "cell_type": "code",
   "execution_count": 5,
   "metadata": {},
   "outputs": [
    {
     "output_type": "execute_result",
     "data": {
      "text/plain": "array([0.52332607, 0.50322803, 0.36325928])"
     },
     "metadata": {},
     "execution_count": 5
    }
   ],
   "source": [
    "Xmean = X.mean(0)\n",
    "Xmean"
   ]
  },
  {
   "cell_type": "code",
   "execution_count": 6,
   "metadata": {},
   "outputs": [
    {
     "output_type": "execute_result",
     "data": {
      "text/plain": "array([[-0.35635422,  0.39327759, -0.03135477],\n       [ 0.24458197, -0.22268043,  0.45563132],\n       [-0.15065136,  0.15693782,  0.40466458],\n       [ 0.10318904,  0.15825066,  0.02070123],\n       [ 0.18735594, -0.46639538, -0.01926991],\n       [-0.35978245,  0.12716409, -0.16646179],\n       [-0.02209233, -0.439362  , -0.2171267 ],\n       [-0.02484773,  0.36587485, -0.1416535 ],\n       [-0.04928623, -0.21083681, -0.05259214],\n       [ 0.42788737,  0.13776961, -0.25253831]])"
     },
     "metadata": {},
     "execution_count": 6
    }
   ],
   "source": [
    "X_centered = X - Xmean\n",
    "X_centered"
   ]
  },
  {
   "cell_type": "code",
   "execution_count": 7,
   "metadata": {},
   "outputs": [
    {
     "output_type": "execute_result",
     "data": {
      "text/plain": "array([-3.33066907e-17, -6.66133815e-17, -3.33066907e-17])"
     },
     "metadata": {},
     "execution_count": 7
    }
   ],
   "source": [
    "X_centered.mean(0)"
   ]
  },
  {
   "cell_type": "code",
   "execution_count": 9,
   "metadata": {},
   "outputs": [],
   "source": [
    "import math"
   ]
  },
  {
   "cell_type": "code",
   "execution_count": 10,
   "metadata": {},
   "outputs": [],
   "source": [
    "x = np.linspace(0,5,50)\n",
    "y = np.linspace(0,5,50)[:, np.newaxis]\n",
    "\n",
    "z = np.sin(x)**10 + np.cos(10 + y*x) *np.cos(x)"
   ]
  },
  {
   "cell_type": "code",
   "execution_count": 17,
   "metadata": {},
   "outputs": [],
   "source": [
    "%matplotlib inline \n",
    "import matplotlib.pyplot as plt \n"
   ]
  },
  {
   "cell_type": "code",
   "execution_count": 19,
   "metadata": {},
   "outputs": [
    {
     "output_type": "display_data",
     "data": {
      "text/plain": "<Figure size 432x288 with 2 Axes>",
      "image/svg+xml": "<?xml version=\"1.0\" encoding=\"utf-8\" standalone=\"no\"?>\r\n<!DOCTYPE svg PUBLIC \"-//W3C//DTD SVG 1.1//EN\"\r\n  \"http://www.w3.org/Graphics/SVG/1.1/DTD/svg11.dtd\">\r\n<!-- Created with matplotlib (https://matplotlib.org/) -->\r\n<svg height=\"252.317344pt\" version=\"1.1\" viewBox=\"0 0 310.459812 252.317344\" width=\"310.459812pt\" xmlns=\"http://www.w3.org/2000/svg\" xmlns:xlink=\"http://www.w3.org/1999/xlink\">\r\n <metadata>\r\n  <rdf:RDF xmlns:cc=\"http://creativecommons.org/ns#\" xmlns:dc=\"http://purl.org/dc/elements/1.1/\" xmlns:rdf=\"http://www.w3.org/1999/02/22-rdf-syntax-ns#\">\r\n   <cc:Work>\r\n    <dc:type rdf:resource=\"http://purl.org/dc/dcmitype/StillImage\"/>\r\n    <dc:date>2020-08-09T23:09:44.275249</dc:date>\r\n    <dc:format>image/svg+xml</dc:format>\r\n    <dc:creator>\r\n     <cc:Agent>\r\n      <dc:title>Matplotlib v3.3.0, https://matplotlib.org/</dc:title>\r\n     </cc:Agent>\r\n    </dc:creator>\r\n   </cc:Work>\r\n  </rdf:RDF>\r\n </metadata>\r\n <defs>\r\n  <style type=\"text/css\">*{stroke-linecap:butt;stroke-linejoin:round;}</style>\r\n </defs>\r\n <g id=\"figure_1\">\r\n  <g id=\"patch_1\">\r\n   <path d=\"M 0 252.317344 \r\nL 310.459812 252.317344 \r\nL 310.459812 0 \r\nL 0 0 \r\nz\r\n\" style=\"fill:none;\"/>\r\n  </g>\r\n  <g id=\"axes_1\">\r\n   <g id=\"patch_2\">\r\n    <path d=\"M 20.5625 228.439219 \r\nL 238.0025 228.439219 \r\nL 238.0025 10.999219 \r\nL 20.5625 10.999219 \r\nz\r\n\" style=\"fill:#ffffff;\"/>\r\n   </g>\r\n   <g clip-path=\"url(#p1577b74b35)\">\r\n    <image height=\"218\" id=\"image4f551c478c\" transform=\"scale(1 -1)translate(0 -218)\" width=\"218\" x=\"20.5625\" xlink:href=\"data:image/png;base64,\r\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\" y=\"-10.439219\"/>\r\n   </g>\r\n   <g id=\"matplotlib.axis_1\">\r\n    <g id=\"xtick_1\">\r\n     <g id=\"line2d_1\">\r\n      <defs>\r\n       <path d=\"M 0 0 \r\nL 0 3.5 \r\n\" id=\"m321ddf8169\" style=\"stroke:#000000;stroke-width:0.8;\"/>\r\n      </defs>\r\n      <g>\r\n       <use style=\"stroke:#000000;stroke-width:0.8;\" x=\"20.5625\" xlink:href=\"#m321ddf8169\" y=\"228.439219\"/>\r\n      </g>\r\n     </g>\r\n     <g id=\"text_1\">\r\n      <!-- 0 -->\r\n      <g transform=\"translate(17.38125 243.037656)scale(0.1 -0.1)\">\r\n       <defs>\r\n        <path d=\"M 31.78125 66.40625 \r\nQ 24.171875 66.40625 20.328125 58.90625 \r\nQ 16.5 51.421875 16.5 36.375 \r\nQ 16.5 21.390625 20.328125 13.890625 \r\nQ 24.171875 6.390625 31.78125 6.390625 \r\nQ 39.453125 6.390625 43.28125 13.890625 \r\nQ 47.125 21.390625 47.125 36.375 \r\nQ 47.125 51.421875 43.28125 58.90625 \r\nQ 39.453125 66.40625 31.78125 66.40625 \r\nz\r\nM 31.78125 74.21875 \r\nQ 44.046875 74.21875 50.515625 64.515625 \r\nQ 56.984375 54.828125 56.984375 36.375 \r\nQ 56.984375 17.96875 50.515625 8.265625 \r\nQ 44.046875 -1.421875 31.78125 -1.421875 \r\nQ 19.53125 -1.421875 13.0625 8.265625 \r\nQ 6.59375 17.96875 6.59375 36.375 \r\nQ 6.59375 54.828125 13.0625 64.515625 \r\nQ 19.53125 74.21875 31.78125 74.21875 \r\nz\r\n\" id=\"DejaVuSans-48\"/>\r\n       </defs>\r\n       <use xlink:href=\"#DejaVuSans-48\"/>\r\n      </g>\r\n     </g>\r\n    </g>\r\n    <g id=\"xtick_2\">\r\n     <g id=\"line2d_2\">\r\n      <g>\r\n       <use style=\"stroke:#000000;stroke-width:0.8;\" x=\"64.0505\" xlink:href=\"#m321ddf8169\" y=\"228.439219\"/>\r\n      </g>\r\n     </g>\r\n     <g id=\"text_2\">\r\n      <!-- 1 -->\r\n      <g transform=\"translate(60.86925 243.037656)scale(0.1 -0.1)\">\r\n       <defs>\r\n        <path d=\"M 12.40625 8.296875 \r\nL 28.515625 8.296875 \r\nL 28.515625 63.921875 \r\nL 10.984375 60.40625 \r\nL 10.984375 69.390625 \r\nL 28.421875 72.90625 \r\nL 38.28125 72.90625 \r\nL 38.28125 8.296875 \r\nL 54.390625 8.296875 \r\nL 54.390625 0 \r\nL 12.40625 0 \r\nz\r\n\" id=\"DejaVuSans-49\"/>\r\n       </defs>\r\n       <use xlink:href=\"#DejaVuSans-49\"/>\r\n      </g>\r\n     </g>\r\n    </g>\r\n    <g id=\"xtick_3\">\r\n     <g id=\"line2d_3\">\r\n      <g>\r\n       <use style=\"stroke:#000000;stroke-width:0.8;\" x=\"107.5385\" xlink:href=\"#m321ddf8169\" y=\"228.439219\"/>\r\n      </g>\r\n     </g>\r\n     <g id=\"text_3\">\r\n      <!-- 2 -->\r\n      <g transform=\"translate(104.35725 243.037656)scale(0.1 -0.1)\">\r\n       <defs>\r\n        <path d=\"M 19.1875 8.296875 \r\nL 53.609375 8.296875 \r\nL 53.609375 0 \r\nL 7.328125 0 \r\nL 7.328125 8.296875 \r\nQ 12.9375 14.109375 22.625 23.890625 \r\nQ 32.328125 33.6875 34.8125 36.53125 \r\nQ 39.546875 41.84375 41.421875 45.53125 \r\nQ 43.3125 49.21875 43.3125 52.78125 \r\nQ 43.3125 58.59375 39.234375 62.25 \r\nQ 35.15625 65.921875 28.609375 65.921875 \r\nQ 23.96875 65.921875 18.8125 64.3125 \r\nQ 13.671875 62.703125 7.8125 59.421875 \r\nL 7.8125 69.390625 \r\nQ 13.765625 71.78125 18.9375 73 \r\nQ 24.125 74.21875 28.421875 74.21875 \r\nQ 39.75 74.21875 46.484375 68.546875 \r\nQ 53.21875 62.890625 53.21875 53.421875 \r\nQ 53.21875 48.921875 51.53125 44.890625 \r\nQ 49.859375 40.875 45.40625 35.40625 \r\nQ 44.1875 33.984375 37.640625 27.21875 \r\nQ 31.109375 20.453125 19.1875 8.296875 \r\nz\r\n\" id=\"DejaVuSans-50\"/>\r\n       </defs>\r\n       <use xlink:href=\"#DejaVuSans-50\"/>\r\n      </g>\r\n     </g>\r\n    </g>\r\n    <g id=\"xtick_4\">\r\n     <g id=\"line2d_4\">\r\n      <g>\r\n       <use style=\"stroke:#000000;stroke-width:0.8;\" x=\"151.0265\" xlink:href=\"#m321ddf8169\" y=\"228.439219\"/>\r\n      </g>\r\n     </g>\r\n     <g id=\"text_4\">\r\n      <!-- 3 -->\r\n      <g transform=\"translate(147.84525 243.037656)scale(0.1 -0.1)\">\r\n       <defs>\r\n        <path d=\"M 40.578125 39.3125 \r\nQ 47.65625 37.796875 51.625 33 \r\nQ 55.609375 28.21875 55.609375 21.1875 \r\nQ 55.609375 10.40625 48.1875 4.484375 \r\nQ 40.765625 -1.421875 27.09375 -1.421875 \r\nQ 22.515625 -1.421875 17.65625 -0.515625 \r\nQ 12.796875 0.390625 7.625 2.203125 \r\nL 7.625 11.71875 \r\nQ 11.71875 9.328125 16.59375 8.109375 \r\nQ 21.484375 6.890625 26.8125 6.890625 \r\nQ 36.078125 6.890625 40.9375 10.546875 \r\nQ 45.796875 14.203125 45.796875 21.1875 \r\nQ 45.796875 27.640625 41.28125 31.265625 \r\nQ 36.765625 34.90625 28.71875 34.90625 \r\nL 20.21875 34.90625 \r\nL 20.21875 43.015625 \r\nL 29.109375 43.015625 \r\nQ 36.375 43.015625 40.234375 45.921875 \r\nQ 44.09375 48.828125 44.09375 54.296875 \r\nQ 44.09375 59.90625 40.109375 62.90625 \r\nQ 36.140625 65.921875 28.71875 65.921875 \r\nQ 24.65625 65.921875 20.015625 65.03125 \r\nQ 15.375 64.15625 9.8125 62.3125 \r\nL 9.8125 71.09375 \r\nQ 15.4375 72.65625 20.34375 73.4375 \r\nQ 25.25 74.21875 29.59375 74.21875 \r\nQ 40.828125 74.21875 47.359375 69.109375 \r\nQ 53.90625 64.015625 53.90625 55.328125 \r\nQ 53.90625 49.265625 50.4375 45.09375 \r\nQ 46.96875 40.921875 40.578125 39.3125 \r\nz\r\n\" id=\"DejaVuSans-51\"/>\r\n       </defs>\r\n       <use xlink:href=\"#DejaVuSans-51\"/>\r\n      </g>\r\n     </g>\r\n    </g>\r\n    <g id=\"xtick_5\">\r\n     <g id=\"line2d_5\">\r\n      <g>\r\n       <use style=\"stroke:#000000;stroke-width:0.8;\" x=\"194.5145\" xlink:href=\"#m321ddf8169\" y=\"228.439219\"/>\r\n      </g>\r\n     </g>\r\n     <g id=\"text_5\">\r\n      <!-- 4 -->\r\n      <g transform=\"translate(191.33325 243.037656)scale(0.1 -0.1)\">\r\n       <defs>\r\n        <path d=\"M 37.796875 64.3125 \r\nL 12.890625 25.390625 \r\nL 37.796875 25.390625 \r\nz\r\nM 35.203125 72.90625 \r\nL 47.609375 72.90625 \r\nL 47.609375 25.390625 \r\nL 58.015625 25.390625 \r\nL 58.015625 17.1875 \r\nL 47.609375 17.1875 \r\nL 47.609375 0 \r\nL 37.796875 0 \r\nL 37.796875 17.1875 \r\nL 4.890625 17.1875 \r\nL 4.890625 26.703125 \r\nz\r\n\" id=\"DejaVuSans-52\"/>\r\n       </defs>\r\n       <use xlink:href=\"#DejaVuSans-52\"/>\r\n      </g>\r\n     </g>\r\n    </g>\r\n    <g id=\"xtick_6\">\r\n     <g id=\"line2d_6\">\r\n      <g>\r\n       <use style=\"stroke:#000000;stroke-width:0.8;\" x=\"238.0025\" xlink:href=\"#m321ddf8169\" y=\"228.439219\"/>\r\n      </g>\r\n     </g>\r\n     <g id=\"text_6\">\r\n      <!-- 5 -->\r\n      <g transform=\"translate(234.82125 243.037656)scale(0.1 -0.1)\">\r\n       <defs>\r\n        <path d=\"M 10.796875 72.90625 \r\nL 49.515625 72.90625 \r\nL 49.515625 64.59375 \r\nL 19.828125 64.59375 \r\nL 19.828125 46.734375 \r\nQ 21.96875 47.46875 24.109375 47.828125 \r\nQ 26.265625 48.1875 28.421875 48.1875 \r\nQ 40.625 48.1875 47.75 41.5 \r\nQ 54.890625 34.8125 54.890625 23.390625 \r\nQ 54.890625 11.625 47.5625 5.09375 \r\nQ 40.234375 -1.421875 26.90625 -1.421875 \r\nQ 22.3125 -1.421875 17.546875 -0.640625 \r\nQ 12.796875 0.140625 7.71875 1.703125 \r\nL 7.71875 11.625 \r\nQ 12.109375 9.234375 16.796875 8.0625 \r\nQ 21.484375 6.890625 26.703125 6.890625 \r\nQ 35.15625 6.890625 40.078125 11.328125 \r\nQ 45.015625 15.765625 45.015625 23.390625 \r\nQ 45.015625 31 40.078125 35.4375 \r\nQ 35.15625 39.890625 26.703125 39.890625 \r\nQ 22.75 39.890625 18.8125 39.015625 \r\nQ 14.890625 38.140625 10.796875 36.28125 \r\nz\r\n\" id=\"DejaVuSans-53\"/>\r\n       </defs>\r\n       <use xlink:href=\"#DejaVuSans-53\"/>\r\n      </g>\r\n     </g>\r\n    </g>\r\n   </g>\r\n   <g id=\"matplotlib.axis_2\">\r\n    <g id=\"ytick_1\">\r\n     <g id=\"line2d_7\">\r\n      <defs>\r\n       <path d=\"M 0 0 \r\nL -3.5 0 \r\n\" id=\"m273509df21\" style=\"stroke:#000000;stroke-width:0.8;\"/>\r\n      </defs>\r\n      <g>\r\n       <use style=\"stroke:#000000;stroke-width:0.8;\" x=\"20.5625\" xlink:href=\"#m273509df21\" y=\"228.439219\"/>\r\n      </g>\r\n     </g>\r\n     <g id=\"text_7\">\r\n      <!-- 0 -->\r\n      <g transform=\"translate(7.2 232.238437)scale(0.1 -0.1)\">\r\n       <use xlink:href=\"#DejaVuSans-48\"/>\r\n      </g>\r\n     </g>\r\n    </g>\r\n    <g id=\"ytick_2\">\r\n     <g id=\"line2d_8\">\r\n      <g>\r\n       <use style=\"stroke:#000000;stroke-width:0.8;\" x=\"20.5625\" xlink:href=\"#m273509df21\" y=\"184.951219\"/>\r\n      </g>\r\n     </g>\r\n     <g id=\"text_8\">\r\n      <!-- 1 -->\r\n      <g transform=\"translate(7.2 188.750437)scale(0.1 -0.1)\">\r\n       <use xlink:href=\"#DejaVuSans-49\"/>\r\n      </g>\r\n     </g>\r\n    </g>\r\n    <g id=\"ytick_3\">\r\n     <g id=\"line2d_9\">\r\n      <g>\r\n       <use style=\"stroke:#000000;stroke-width:0.8;\" x=\"20.5625\" xlink:href=\"#m273509df21\" y=\"141.463219\"/>\r\n      </g>\r\n     </g>\r\n     <g id=\"text_9\">\r\n      <!-- 2 -->\r\n      <g transform=\"translate(7.2 145.262437)scale(0.1 -0.1)\">\r\n       <use xlink:href=\"#DejaVuSans-50\"/>\r\n      </g>\r\n     </g>\r\n    </g>\r\n    <g id=\"ytick_4\">\r\n     <g id=\"line2d_10\">\r\n      <g>\r\n       <use style=\"stroke:#000000;stroke-width:0.8;\" x=\"20.5625\" xlink:href=\"#m273509df21\" y=\"97.975219\"/>\r\n      </g>\r\n     </g>\r\n     <g id=\"text_10\">\r\n      <!-- 3 -->\r\n      <g transform=\"translate(7.2 101.774437)scale(0.1 -0.1)\">\r\n       <use xlink:href=\"#DejaVuSans-51\"/>\r\n      </g>\r\n     </g>\r\n    </g>\r\n    <g id=\"ytick_5\">\r\n     <g id=\"line2d_11\">\r\n      <g>\r\n       <use style=\"stroke:#000000;stroke-width:0.8;\" x=\"20.5625\" xlink:href=\"#m273509df21\" y=\"54.487219\"/>\r\n      </g>\r\n     </g>\r\n     <g id=\"text_11\">\r\n      <!-- 4 -->\r\n      <g transform=\"translate(7.2 58.286437)scale(0.1 -0.1)\">\r\n       <use xlink:href=\"#DejaVuSans-52\"/>\r\n      </g>\r\n     </g>\r\n    </g>\r\n    <g id=\"ytick_6\">\r\n     <g id=\"line2d_12\">\r\n      <g>\r\n       <use style=\"stroke:#000000;stroke-width:0.8;\" x=\"20.5625\" xlink:href=\"#m273509df21\" y=\"10.999219\"/>\r\n      </g>\r\n     </g>\r\n     <g id=\"text_12\">\r\n      <!-- 5 -->\r\n      <g transform=\"translate(7.2 14.798437)scale(0.1 -0.1)\">\r\n       <use xlink:href=\"#DejaVuSans-53\"/>\r\n      </g>\r\n     </g>\r\n    </g>\r\n   </g>\r\n   <g id=\"patch_3\">\r\n    <path d=\"M 20.5625 228.439219 \r\nL 20.5625 10.999219 \r\n\" style=\"fill:none;stroke:#000000;stroke-linecap:square;stroke-linejoin:miter;stroke-width:0.8;\"/>\r\n   </g>\r\n   <g id=\"patch_4\">\r\n    <path d=\"M 238.0025 228.439219 \r\nL 238.0025 10.999219 \r\n\" style=\"fill:none;stroke:#000000;stroke-linecap:square;stroke-linejoin:miter;stroke-width:0.8;\"/>\r\n   </g>\r\n   <g id=\"patch_5\">\r\n    <path d=\"M 20.5625 228.439219 \r\nL 238.0025 228.439219 \r\n\" style=\"fill:none;stroke:#000000;stroke-linecap:square;stroke-linejoin:miter;stroke-width:0.8;\"/>\r\n   </g>\r\n   <g id=\"patch_6\">\r\n    <path d=\"M 20.5625 10.999219 \r\nL 238.0025 10.999219 \r\n\" style=\"fill:none;stroke:#000000;stroke-linecap:square;stroke-linejoin:miter;stroke-width:0.8;\"/>\r\n   </g>\r\n  </g>\r\n  <g id=\"axes_2\">\r\n   <g id=\"patch_7\">\r\n    <path clip-path=\"url(#p6900da9e54)\" d=\"M 254.7425 228.439219 \r\nL 254.7425 227.589844 \r\nL 254.7425 11.848594 \r\nL 254.7425 10.999219 \r\nL 265.6145 10.999219 \r\nL 265.6145 11.848594 \r\nL 265.6145 227.589844 \r\nL 265.6145 228.439219 \r\nz\r\n\" style=\"fill:#ffffff;stroke:#ffffff;stroke-linejoin:miter;stroke-width:0.01;\"/>\r\n   </g>\r\n   <image height=\"217\" id=\"image352ffc4b55\" transform=\"scale(1 -1)translate(0 -217)\" width=\"11\" x=\"255\" xlink:href=\"data:image/png;base64,\r\niVBORw0KGgoAAAANSUhEUgAAAAsAAADZCAYAAAD2WsoCAAABSElEQVR4nN2awQ0CMQwEYztHZdRA/41AaMHzGMl3vK3V7qxD0HHxzs9Zzc+OjO7s2iuyP8yUq4gNoBwJPCPlpSkHosEa1IaHcBZpaDZEdBaNw2y0Z00aomftWJ2a0WB/1gx4NBsooLdIhxxYjwZUBsNwn4nyHWmIdSMbmrJGw9wNS9nkfEN0M7ZuirJHoz+LL3piA92Dmo3n1/14dDcM6NW9on++x6C7Hw3gmAcEnr1SRM4zaICfSG4pXsARyuA5GaTBbMxAl2JAi4bnOZMMezaWha7yB2x4AUUaYHhrNLyAng1GQ/RslbKZMhgusW6LxhVfSRnSsAIWUb6S0CANlrd1xAasG9kY0SDizGgwG1ZAVMpLDKjthnasrgVowIDWPciWn30VeAHbs1S5L7z2i/zdgJSLKYPhIsNI+Qrwug7zTN45SfCQ6g9eiIFo/nbsswAAAABJRU5ErkJggg==\" y=\"-11\"/>\r\n   <g id=\"matplotlib.axis_3\"/>\r\n   <g id=\"matplotlib.axis_4\">\r\n    <g id=\"ytick_7\">\r\n     <g id=\"line2d_13\">\r\n      <defs>\r\n       <path d=\"M 0 0 \r\nL 3.5 0 \r\n\" id=\"meb0c4aff7e\" style=\"stroke:#000000;stroke-width:0.8;\"/>\r\n      </defs>\r\n      <g>\r\n       <use style=\"stroke:#000000;stroke-width:0.8;\" x=\"265.6145\" xlink:href=\"#meb0c4aff7e\" y=\"201.955892\"/>\r\n      </g>\r\n     </g>\r\n     <g id=\"text_13\">\r\n      <!-- −0.75 -->\r\n      <g transform=\"translate(272.6145 205.75511)scale(0.1 -0.1)\">\r\n       <defs>\r\n        <path d=\"M 10.59375 35.5 \r\nL 73.1875 35.5 \r\nL 73.1875 27.203125 \r\nL 10.59375 27.203125 \r\nz\r\n\" id=\"DejaVuSans-8722\"/>\r\n        <path d=\"M 10.6875 12.40625 \r\nL 21 12.40625 \r\nL 21 0 \r\nL 10.6875 0 \r\nz\r\n\" id=\"DejaVuSans-46\"/>\r\n        <path d=\"M 8.203125 72.90625 \r\nL 55.078125 72.90625 \r\nL 55.078125 68.703125 \r\nL 28.609375 0 \r\nL 18.3125 0 \r\nL 43.21875 64.59375 \r\nL 8.203125 64.59375 \r\nz\r\n\" id=\"DejaVuSans-55\"/>\r\n       </defs>\r\n       <use xlink:href=\"#DejaVuSans-8722\"/>\r\n       <use x=\"83.789062\" xlink:href=\"#DejaVuSans-48\"/>\r\n       <use x=\"147.412109\" xlink:href=\"#DejaVuSans-46\"/>\r\n       <use x=\"179.199219\" xlink:href=\"#DejaVuSans-55\"/>\r\n       <use x=\"242.822266\" xlink:href=\"#DejaVuSans-53\"/>\r\n      </g>\r\n     </g>\r\n    </g>\r\n    <g id=\"ytick_8\">\r\n     <g id=\"line2d_14\">\r\n      <g>\r\n       <use style=\"stroke:#000000;stroke-width:0.8;\" x=\"265.6145\" xlink:href=\"#meb0c4aff7e\" y=\"175.434266\"/>\r\n      </g>\r\n     </g>\r\n     <g id=\"text_14\">\r\n      <!-- −0.50 -->\r\n      <g transform=\"translate(272.6145 179.233485)scale(0.1 -0.1)\">\r\n       <use xlink:href=\"#DejaVuSans-8722\"/>\r\n       <use x=\"83.789062\" xlink:href=\"#DejaVuSans-48\"/>\r\n       <use x=\"147.412109\" xlink:href=\"#DejaVuSans-46\"/>\r\n       <use x=\"179.199219\" xlink:href=\"#DejaVuSans-53\"/>\r\n       <use x=\"242.822266\" xlink:href=\"#DejaVuSans-48\"/>\r\n      </g>\r\n     </g>\r\n    </g>\r\n    <g id=\"ytick_9\">\r\n     <g id=\"line2d_15\">\r\n      <g>\r\n       <use style=\"stroke:#000000;stroke-width:0.8;\" x=\"265.6145\" xlink:href=\"#meb0c4aff7e\" y=\"148.912641\"/>\r\n      </g>\r\n     </g>\r\n     <g id=\"text_15\">\r\n      <!-- −0.25 -->\r\n      <g transform=\"translate(272.6145 152.71186)scale(0.1 -0.1)\">\r\n       <use xlink:href=\"#DejaVuSans-8722\"/>\r\n       <use x=\"83.789062\" xlink:href=\"#DejaVuSans-48\"/>\r\n       <use x=\"147.412109\" xlink:href=\"#DejaVuSans-46\"/>\r\n       <use x=\"179.199219\" xlink:href=\"#DejaVuSans-50\"/>\r\n       <use x=\"242.822266\" xlink:href=\"#DejaVuSans-53\"/>\r\n      </g>\r\n     </g>\r\n    </g>\r\n    <g id=\"ytick_10\">\r\n     <g id=\"line2d_16\">\r\n      <g>\r\n       <use style=\"stroke:#000000;stroke-width:0.8;\" x=\"265.6145\" xlink:href=\"#meb0c4aff7e\" y=\"122.391016\"/>\r\n      </g>\r\n     </g>\r\n     <g id=\"text_16\">\r\n      <!-- 0.00 -->\r\n      <g transform=\"translate(272.6145 126.190235)scale(0.1 -0.1)\">\r\n       <use xlink:href=\"#DejaVuSans-48\"/>\r\n       <use x=\"63.623047\" xlink:href=\"#DejaVuSans-46\"/>\r\n       <use x=\"95.410156\" xlink:href=\"#DejaVuSans-48\"/>\r\n       <use x=\"159.033203\" xlink:href=\"#DejaVuSans-48\"/>\r\n      </g>\r\n     </g>\r\n    </g>\r\n    <g id=\"ytick_11\">\r\n     <g id=\"line2d_17\">\r\n      <g>\r\n       <use style=\"stroke:#000000;stroke-width:0.8;\" x=\"265.6145\" xlink:href=\"#meb0c4aff7e\" y=\"95.869391\"/>\r\n      </g>\r\n     </g>\r\n     <g id=\"text_17\">\r\n      <!-- 0.25 -->\r\n      <g transform=\"translate(272.6145 99.66861)scale(0.1 -0.1)\">\r\n       <use xlink:href=\"#DejaVuSans-48\"/>\r\n       <use x=\"63.623047\" xlink:href=\"#DejaVuSans-46\"/>\r\n       <use x=\"95.410156\" xlink:href=\"#DejaVuSans-50\"/>\r\n       <use x=\"159.033203\" xlink:href=\"#DejaVuSans-53\"/>\r\n      </g>\r\n     </g>\r\n    </g>\r\n    <g id=\"ytick_12\">\r\n     <g id=\"line2d_18\">\r\n      <g>\r\n       <use style=\"stroke:#000000;stroke-width:0.8;\" x=\"265.6145\" xlink:href=\"#meb0c4aff7e\" y=\"69.347766\"/>\r\n      </g>\r\n     </g>\r\n     <g id=\"text_18\">\r\n      <!-- 0.50 -->\r\n      <g transform=\"translate(272.6145 73.146985)scale(0.1 -0.1)\">\r\n       <use xlink:href=\"#DejaVuSans-48\"/>\r\n       <use x=\"63.623047\" xlink:href=\"#DejaVuSans-46\"/>\r\n       <use x=\"95.410156\" xlink:href=\"#DejaVuSans-53\"/>\r\n       <use x=\"159.033203\" xlink:href=\"#DejaVuSans-48\"/>\r\n      </g>\r\n     </g>\r\n    </g>\r\n    <g id=\"ytick_13\">\r\n     <g id=\"line2d_19\">\r\n      <g>\r\n       <use style=\"stroke:#000000;stroke-width:0.8;\" x=\"265.6145\" xlink:href=\"#meb0c4aff7e\" y=\"42.826141\"/>\r\n      </g>\r\n     </g>\r\n     <g id=\"text_19\">\r\n      <!-- 0.75 -->\r\n      <g transform=\"translate(272.6145 46.62536)scale(0.1 -0.1)\">\r\n       <use xlink:href=\"#DejaVuSans-48\"/>\r\n       <use x=\"63.623047\" xlink:href=\"#DejaVuSans-46\"/>\r\n       <use x=\"95.410156\" xlink:href=\"#DejaVuSans-55\"/>\r\n       <use x=\"159.033203\" xlink:href=\"#DejaVuSans-53\"/>\r\n      </g>\r\n     </g>\r\n    </g>\r\n    <g id=\"ytick_14\">\r\n     <g id=\"line2d_20\">\r\n      <g>\r\n       <use style=\"stroke:#000000;stroke-width:0.8;\" x=\"265.6145\" xlink:href=\"#meb0c4aff7e\" y=\"16.304516\"/>\r\n      </g>\r\n     </g>\r\n     <g id=\"text_20\">\r\n      <!-- 1.00 -->\r\n      <g transform=\"translate(272.6145 20.103735)scale(0.1 -0.1)\">\r\n       <use xlink:href=\"#DejaVuSans-49\"/>\r\n       <use x=\"63.623047\" xlink:href=\"#DejaVuSans-46\"/>\r\n       <use x=\"95.410156\" xlink:href=\"#DejaVuSans-48\"/>\r\n       <use x=\"159.033203\" xlink:href=\"#DejaVuSans-48\"/>\r\n      </g>\r\n     </g>\r\n    </g>\r\n   </g>\r\n   <g id=\"patch_8\">\r\n    <path d=\"M 254.7425 228.439219 \r\nL 254.7425 227.589844 \r\nL 254.7425 11.848594 \r\nL 254.7425 10.999219 \r\nL 265.6145 10.999219 \r\nL 265.6145 11.848594 \r\nL 265.6145 227.589844 \r\nL 265.6145 228.439219 \r\nz\r\n\" style=\"fill:none;stroke:#000000;stroke-linejoin:miter;stroke-width:0.8;\"/>\r\n   </g>\r\n  </g>\r\n </g>\r\n <defs>\r\n  <clipPath id=\"p1577b74b35\">\r\n   <rect height=\"217.44\" width=\"217.44\" x=\"20.5625\" y=\"10.999219\"/>\r\n  </clipPath>\r\n  <clipPath id=\"p6900da9e54\">\r\n   <rect height=\"217.44\" width=\"10.872\" x=\"254.7425\" y=\"10.999219\"/>\r\n  </clipPath>\r\n </defs>\r\n</svg>\r\n",
      "image/png": "[encoded data removed]"
     },
     "metadata": {
      "needs_background": "light"
     }
    }
   ],
   "source": [
    "plt.imshow(z, origin = 'lower', extent = [0,5,0,5], cmap = 'viridis')\n",
    "plt.colorbar();\n"
   ]
  },
  {
   "cell_type": "code",
   "execution_count": null,
   "metadata": {},
   "outputs": [],
   "source": []
  }
 ],
 "metadata": {
  "kernelspec": {
   "display_name": "Python 3.8.5 64-bit",
   "language": "python",
   "name": "python38564bit995b59d2ad3a4a4f8eb07e4533f32339"
  },
  "language_info": {
   "codemirror_mode": {
    "name": "ipython",
    "version": 3
   },
   "file_extension": ".py",
   "mimetype": "text/x-python",
   "name": "python",
   "nbconvert_exporter": "python",
   "pygments_lexer": "ipython3",
   "version": "3.8.5-final"
  }
 },
 "nbformat": 4,
 "nbformat_minor": 2
}